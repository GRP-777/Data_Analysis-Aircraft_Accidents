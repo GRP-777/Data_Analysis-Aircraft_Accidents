{
 "cells": [
  {
   "cell_type": "markdown",
   "metadata": {},
   "source": [
    "# Individual Proyect #2: Data Analysis"
   ]
  },
  {
   "cell_type": "markdown",
   "metadata": {},
   "source": [
    "## Table of Contents\n",
    "\n",
    "* Libraries and Dataset Import\n",
    "* Initial EDA\n",
    "* ETL\n",
    "* KPI #2\n",
    "* ETL continuation\n",
    "* EDA continuation"
   ]
  },
  {
   "cell_type": "markdown",
   "metadata": {},
   "source": [
    "---"
   ]
  },
  {
   "cell_type": "markdown",
   "metadata": {},
   "source": [
    "### Libraries"
   ]
  },
  {
   "cell_type": "code",
   "execution_count": 79,
   "metadata": {},
   "outputs": [
    {
     "name": "stderr",
     "output_type": "stream",
     "text": [
      "[nltk_data] Downloading package wordnet to\n",
      "[nltk_data]     C:\\Users\\German\\AppData\\Roaming\\nltk_data...\n",
      "[nltk_data]   Package wordnet is already up-to-date!\n"
     ]
    },
    {
     "data": {
      "text/plain": [
       "True"
      ]
     },
     "execution_count": 79,
     "metadata": {},
     "output_type": "execute_result"
    }
   ],
   "source": [
    "import pandas as pd\n",
    "import numpy as np\n",
    "from datetime import datetime\n",
    "import re\n",
    "import nltk\n",
    "from nltk.corpus import wordnet\n",
    "import seaborn as sns\n",
    "import matplotlib.pyplot as plt\n",
    "import warnings\n",
    "\n",
    "nltk.download('wordnet')"
   ]
  },
  {
   "cell_type": "markdown",
   "metadata": {},
   "source": [
    "Importing Datasets"
   ]
  },
  {
   "cell_type": "code",
   "execution_count": 80,
   "metadata": {},
   "outputs": [],
   "source": [
    "df_accidentesaviones = pd.read_csv(\"AccidentesAviones.csv\")"
   ]
  },
  {
   "cell_type": "markdown",
   "metadata": {},
   "source": [
    "---"
   ]
  },
  {
   "cell_type": "markdown",
   "metadata": {},
   "source": [
    "### Exploratory Data Analysis (EDA)"
   ]
  },
  {
   "cell_type": "markdown",
   "metadata": {},
   "source": [
    "Main Objective: Evaluate factors of the fatalities in flights accidents over the years"
   ]
  },
  {
   "cell_type": "markdown",
   "metadata": {},
   "source": [
    "- Key Performance Indicator (KPI) #1: The 10% reduction in crew fatality rate over the past 10 years, when compared to the preceding decade, should be assessed.\n",
    "- Key Performance Indicator (KPI) #2: To be decided."
   ]
  },
  {
   "cell_type": "code",
   "execution_count": 81,
   "metadata": {},
   "outputs": [
    {
     "name": "stdout",
     "output_type": "stream",
     "text": [
      "<class 'pandas.core.frame.DataFrame'>\n",
      "RangeIndex: 5008 entries, 0 to 5007\n",
      "Data columns (total 18 columns):\n",
      " #   Column                  Non-Null Count  Dtype \n",
      "---  ------                  --------------  ----- \n",
      " 0   Unnamed: 0              5008 non-null   int64 \n",
      " 1   fecha                   5008 non-null   object\n",
      " 2   HORA declarada          5008 non-null   object\n",
      " 3   Ruta                    5008 non-null   object\n",
      " 4   OperadOR                5008 non-null   object\n",
      " 5   flight_no               5008 non-null   object\n",
      " 6   route                   5007 non-null   object\n",
      " 7   ac_type                 5008 non-null   object\n",
      " 8   registration            5008 non-null   object\n",
      " 9   cn_ln                   5008 non-null   object\n",
      " 10  all_aboard              5008 non-null   object\n",
      " 11  PASAJEROS A BORDO       5008 non-null   object\n",
      " 12  crew_aboard             5008 non-null   object\n",
      " 13  cantidad de fallecidos  5008 non-null   object\n",
      " 14  passenger_fatalities    5008 non-null   object\n",
      " 15  crew_fatalities         5008 non-null   object\n",
      " 16  ground                  5008 non-null   object\n",
      " 17  summary                 5008 non-null   object\n",
      "dtypes: int64(1), object(17)\n",
      "memory usage: 704.4+ KB\n",
      "None\n"
     ]
    },
    {
     "data": {
      "text/html": [
       "<div>\n",
       "<style scoped>\n",
       "    .dataframe tbody tr th:only-of-type {\n",
       "        vertical-align: middle;\n",
       "    }\n",
       "\n",
       "    .dataframe tbody tr th {\n",
       "        vertical-align: top;\n",
       "    }\n",
       "\n",
       "    .dataframe thead th {\n",
       "        text-align: right;\n",
       "    }\n",
       "</style>\n",
       "<table border=\"1\" class=\"dataframe\">\n",
       "  <thead>\n",
       "    <tr style=\"text-align: right;\">\n",
       "      <th></th>\n",
       "      <th>Unnamed: 0</th>\n",
       "      <th>fecha</th>\n",
       "      <th>HORA declarada</th>\n",
       "      <th>Ruta</th>\n",
       "      <th>OperadOR</th>\n",
       "      <th>flight_no</th>\n",
       "      <th>route</th>\n",
       "      <th>ac_type</th>\n",
       "      <th>registration</th>\n",
       "      <th>cn_ln</th>\n",
       "      <th>all_aboard</th>\n",
       "      <th>PASAJEROS A BORDO</th>\n",
       "      <th>crew_aboard</th>\n",
       "      <th>cantidad de fallecidos</th>\n",
       "      <th>passenger_fatalities</th>\n",
       "      <th>crew_fatalities</th>\n",
       "      <th>ground</th>\n",
       "      <th>summary</th>\n",
       "    </tr>\n",
       "  </thead>\n",
       "  <tbody>\n",
       "    <tr>\n",
       "      <th>0</th>\n",
       "      <td>0</td>\n",
       "      <td>September 17, 1908</td>\n",
       "      <td>1718</td>\n",
       "      <td>Fort Myer, Virginia</td>\n",
       "      <td>Military - U.S. Army</td>\n",
       "      <td>?</td>\n",
       "      <td>Demonstration</td>\n",
       "      <td>Wright Flyer III</td>\n",
       "      <td>?</td>\n",
       "      <td>1</td>\n",
       "      <td>2</td>\n",
       "      <td>1</td>\n",
       "      <td>1</td>\n",
       "      <td>1</td>\n",
       "      <td>1</td>\n",
       "      <td>0</td>\n",
       "      <td>0</td>\n",
       "      <td>During a demonstration flight, a U.S. Army fly...</td>\n",
       "    </tr>\n",
       "    <tr>\n",
       "      <th>1</th>\n",
       "      <td>1</td>\n",
       "      <td>September 07, 1909</td>\n",
       "      <td>?</td>\n",
       "      <td>Juvisy-sur-Orge, France</td>\n",
       "      <td>?</td>\n",
       "      <td>?</td>\n",
       "      <td>Air show</td>\n",
       "      <td>Wright Byplane</td>\n",
       "      <td>SC1</td>\n",
       "      <td>?</td>\n",
       "      <td>1</td>\n",
       "      <td>0</td>\n",
       "      <td>1</td>\n",
       "      <td>1</td>\n",
       "      <td>0</td>\n",
       "      <td>0</td>\n",
       "      <td>0</td>\n",
       "      <td>Eugene Lefebvre was the first pilot to ever be...</td>\n",
       "    </tr>\n",
       "    <tr>\n",
       "      <th>2</th>\n",
       "      <td>2</td>\n",
       "      <td>July 12, 1912</td>\n",
       "      <td>0630</td>\n",
       "      <td>Atlantic City, New Jersey</td>\n",
       "      <td>Military - U.S. Navy</td>\n",
       "      <td>?</td>\n",
       "      <td>Test flight</td>\n",
       "      <td>Dirigible</td>\n",
       "      <td>?</td>\n",
       "      <td>?</td>\n",
       "      <td>5</td>\n",
       "      <td>0</td>\n",
       "      <td>5</td>\n",
       "      <td>5</td>\n",
       "      <td>0</td>\n",
       "      <td>5</td>\n",
       "      <td>0</td>\n",
       "      <td>First U.S. dirigible Akron exploded just offsh...</td>\n",
       "    </tr>\n",
       "    <tr>\n",
       "      <th>3</th>\n",
       "      <td>3</td>\n",
       "      <td>August 06, 1913</td>\n",
       "      <td>?</td>\n",
       "      <td>Victoria, British Columbia, Canada</td>\n",
       "      <td>Private</td>\n",
       "      <td>?</td>\n",
       "      <td>?</td>\n",
       "      <td>Curtiss seaplane</td>\n",
       "      <td>?</td>\n",
       "      <td>?</td>\n",
       "      <td>1</td>\n",
       "      <td>0</td>\n",
       "      <td>1</td>\n",
       "      <td>1</td>\n",
       "      <td>0</td>\n",
       "      <td>1</td>\n",
       "      <td>0</td>\n",
       "      <td>The first fatal airplane accident in Canada oc...</td>\n",
       "    </tr>\n",
       "    <tr>\n",
       "      <th>4</th>\n",
       "      <td>4</td>\n",
       "      <td>September 09, 1913</td>\n",
       "      <td>1830</td>\n",
       "      <td>Over the North Sea</td>\n",
       "      <td>Military - German Navy</td>\n",
       "      <td>?</td>\n",
       "      <td>?</td>\n",
       "      <td>Zeppelin L-1 (airship)</td>\n",
       "      <td>?</td>\n",
       "      <td>?</td>\n",
       "      <td>20</td>\n",
       "      <td>?</td>\n",
       "      <td>?</td>\n",
       "      <td>14</td>\n",
       "      <td>?</td>\n",
       "      <td>?</td>\n",
       "      <td>0</td>\n",
       "      <td>The airship flew into a thunderstorm and encou...</td>\n",
       "    </tr>\n",
       "  </tbody>\n",
       "</table>\n",
       "</div>"
      ],
      "text/plain": [
       "   Unnamed: 0               fecha HORA declarada  \\\n",
       "0           0  September 17, 1908           1718   \n",
       "1           1  September 07, 1909              ?   \n",
       "2           2       July 12, 1912           0630   \n",
       "3           3     August 06, 1913              ?   \n",
       "4           4  September 09, 1913           1830   \n",
       "\n",
       "                                 Ruta                OperadOR flight_no  \\\n",
       "0                 Fort Myer, Virginia    Military - U.S. Army         ?   \n",
       "1             Juvisy-sur-Orge, France                       ?         ?   \n",
       "2           Atlantic City, New Jersey    Military - U.S. Navy         ?   \n",
       "3  Victoria, British Columbia, Canada                 Private         ?   \n",
       "4                  Over the North Sea  Military - German Navy         ?   \n",
       "\n",
       "           route                 ac_type registration cn_ln all_aboard  \\\n",
       "0  Demonstration        Wright Flyer III            ?     1          2   \n",
       "1       Air show          Wright Byplane          SC1     ?          1   \n",
       "2    Test flight               Dirigible            ?     ?          5   \n",
       "3              ?        Curtiss seaplane            ?     ?          1   \n",
       "4              ?  Zeppelin L-1 (airship)            ?     ?         20   \n",
       "\n",
       "  PASAJEROS A BORDO crew_aboard cantidad de fallecidos passenger_fatalities  \\\n",
       "0                 1           1                      1                    1   \n",
       "1                 0           1                      1                    0   \n",
       "2                 0           5                      5                    0   \n",
       "3                 0           1                      1                    0   \n",
       "4                 ?           ?                     14                    ?   \n",
       "\n",
       "  crew_fatalities ground                                            summary  \n",
       "0               0      0  During a demonstration flight, a U.S. Army fly...  \n",
       "1               0      0  Eugene Lefebvre was the first pilot to ever be...  \n",
       "2               5      0  First U.S. dirigible Akron exploded just offsh...  \n",
       "3               1      0  The first fatal airplane accident in Canada oc...  \n",
       "4               ?      0  The airship flew into a thunderstorm and encou...  "
      ]
     },
     "execution_count": 81,
     "metadata": {},
     "output_type": "execute_result"
    }
   ],
   "source": [
    "print(df_accidentesaviones.info())\n",
    "df_accidentesaviones.head(5)"
   ]
  },
  {
   "cell_type": "code",
   "execution_count": 82,
   "metadata": {},
   "outputs": [
    {
     "data": {
      "text/html": [
       "<div>\n",
       "<style scoped>\n",
       "    .dataframe tbody tr th:only-of-type {\n",
       "        vertical-align: middle;\n",
       "    }\n",
       "\n",
       "    .dataframe tbody tr th {\n",
       "        vertical-align: top;\n",
       "    }\n",
       "\n",
       "    .dataframe thead th {\n",
       "        text-align: right;\n",
       "    }\n",
       "</style>\n",
       "<table border=\"1\" class=\"dataframe\">\n",
       "  <thead>\n",
       "    <tr style=\"text-align: right;\">\n",
       "      <th></th>\n",
       "      <th>Unnamed: 0</th>\n",
       "    </tr>\n",
       "  </thead>\n",
       "  <tbody>\n",
       "    <tr>\n",
       "      <th>count</th>\n",
       "      <td>5008.000000</td>\n",
       "    </tr>\n",
       "    <tr>\n",
       "      <th>mean</th>\n",
       "      <td>2503.500000</td>\n",
       "    </tr>\n",
       "    <tr>\n",
       "      <th>std</th>\n",
       "      <td>1445.829404</td>\n",
       "    </tr>\n",
       "    <tr>\n",
       "      <th>min</th>\n",
       "      <td>0.000000</td>\n",
       "    </tr>\n",
       "    <tr>\n",
       "      <th>25%</th>\n",
       "      <td>1251.750000</td>\n",
       "    </tr>\n",
       "    <tr>\n",
       "      <th>50%</th>\n",
       "      <td>2503.500000</td>\n",
       "    </tr>\n",
       "    <tr>\n",
       "      <th>75%</th>\n",
       "      <td>3755.250000</td>\n",
       "    </tr>\n",
       "    <tr>\n",
       "      <th>max</th>\n",
       "      <td>5007.000000</td>\n",
       "    </tr>\n",
       "  </tbody>\n",
       "</table>\n",
       "</div>"
      ],
      "text/plain": [
       "        Unnamed: 0\n",
       "count  5008.000000\n",
       "mean   2503.500000\n",
       "std    1445.829404\n",
       "min       0.000000\n",
       "25%    1251.750000\n",
       "50%    2503.500000\n",
       "75%    3755.250000\n",
       "max    5007.000000"
      ]
     },
     "execution_count": 82,
     "metadata": {},
     "output_type": "execute_result"
    }
   ],
   "source": [
    "df_accidentesaviones.describe()"
   ]
  },
  {
   "cell_type": "code",
   "execution_count": 83,
   "metadata": {},
   "outputs": [
    {
     "name": "stdout",
     "output_type": "stream",
     "text": [
      "Unnamed: 0                0\n",
      "fecha                     0\n",
      "HORA declarada            0\n",
      "Ruta                      0\n",
      "OperadOR                  0\n",
      "flight_no                 0\n",
      "route                     1\n",
      "ac_type                   0\n",
      "registration              0\n",
      "cn_ln                     0\n",
      "all_aboard                0\n",
      "PASAJEROS A BORDO         0\n",
      "crew_aboard               0\n",
      "cantidad de fallecidos    0\n",
      "passenger_fatalities      0\n",
      "crew_fatalities           0\n",
      "ground                    0\n",
      "summary                   0\n",
      "dtype: int64\n"
     ]
    }
   ],
   "source": [
    "null_counts = df_accidentesaviones.isnull().sum()\n",
    "\n",
    "print(null_counts)"
   ]
  },
  {
   "cell_type": "markdown",
   "metadata": {},
   "source": [
    "Observations:\n",
    "- The 'df_accidentesaviones' DataFrame needs treatment in it's raw form to be able to analyze it. \n",
    "- Too much NaN values.\n",
    "- NaN values are written '?', needs treatment.\n",
    "- The object datatype impede .describe to get the information on the numeric variables.\n",
    "- The column names are in different languages and needs to uniform in upper and lower case.\n",
    "- The dates column values needs a specific redaction to be able to transform to a datetime type.\n",
    "- Some columns seems to be irrelevant to the current analysis. Needs confirmation."
   ]
  },
  {
   "cell_type": "markdown",
   "metadata": {},
   "source": [
    "Possible lines of research for KPI #2: \n",
    "- Fatalities related to aircraft type.\n",
    "- Fatalities related to military/civilian type of flights."
   ]
  },
  {
   "cell_type": "markdown",
   "metadata": {},
   "source": [
    "---"
   ]
  },
  {
   "cell_type": "markdown",
   "metadata": {},
   "source": [
    "### Extract Transform Load (ETL)"
   ]
  },
  {
   "cell_type": "code",
   "execution_count": 84,
   "metadata": {},
   "outputs": [
    {
     "name": "stdout",
     "output_type": "stream",
     "text": [
      "Unnamed: 0                   0\n",
      "fecha                        0\n",
      "HORA declarada            1504\n",
      "Ruta                         5\n",
      "OperadOR                    10\n",
      "flight_no                 3682\n",
      "route                      763\n",
      "ac_type                     13\n",
      "registration               272\n",
      "cn_ln                      667\n",
      "all_aboard                  17\n",
      "PASAJEROS A BORDO          221\n",
      "crew_aboard                219\n",
      "cantidad de fallecidos       8\n",
      "passenger_fatalities       235\n",
      "crew_fatalities            235\n",
      "ground                      44\n",
      "summary                     59\n",
      "dtype: int64\n"
     ]
    }
   ],
   "source": [
    "df_w_nulls = pd.DataFrame(df_accidentesaviones)\n",
    "df_w_nulls.replace('?', pd.NA, inplace=True)\n",
    "\n",
    "# Count null values in each column\n",
    "null_counts = df_w_nulls.isnull().sum()\n",
    "\n",
    "print(null_counts)"
   ]
  },
  {
   "cell_type": "code",
   "execution_count": 85,
   "metadata": {},
   "outputs": [],
   "source": [
    "def convert_to_year(date_string):\n",
    "    date_object = datetime.strptime(date_string, \"%B %d, %Y\")\n",
    "    return date_object.year\n",
    "\n",
    "# Apply the function to the 'fecha' column\n",
    "df_w_nulls['year'] = df_w_nulls['fecha'].apply(lambda x: convert_to_year(x))"
   ]
  },
  {
   "cell_type": "markdown",
   "metadata": {},
   "source": [
    "Unnecessary columns dropping for the KPI #1 and possible KPIs #2:"
   ]
  },
  {
   "cell_type": "code",
   "execution_count": 86,
   "metadata": {},
   "outputs": [],
   "source": [
    "columns_to_drop = ['Unnamed: 0', 'HORA declarada', 'flight_no', 'route', 'registration', 'ground', 'cn_ln', 'summary']\n",
    "\n",
    "# Drop the selected columns\n",
    "df_w_nulls = df_w_nulls.drop(columns=columns_to_drop)"
   ]
  },
  {
   "cell_type": "markdown",
   "metadata": {},
   "source": [
    "Create 'Month' column to verify if it's useful:"
   ]
  },
  {
   "cell_type": "code",
   "execution_count": 87,
   "metadata": {},
   "outputs": [],
   "source": [
    "def extract_month_name(date):\n",
    "    import re\n",
    "    month_match = re.search(r'([A-Za-z]+)', date)\n",
    "    if month_match:\n",
    "        return month_match.group(1)\n",
    "    return None\n",
    "\n",
    "# Apply the function to create a new column 'month_name'\n",
    "df_w_nulls['month'] = df_w_nulls['fecha'].apply(extract_month_name)"
   ]
  },
  {
   "cell_type": "markdown",
   "metadata": {},
   "source": [
    "Create 'Season' column to verify if it's useful:"
   ]
  },
  {
   "cell_type": "code",
   "execution_count": 88,
   "metadata": {},
   "outputs": [],
   "source": [
    "def get_season(month):\n",
    "    month_to_num = {\n",
    "        'January': 1, 'February': 2, 'March': 3, 'April': 4, 'May': 5, 'June': 6,\n",
    "        'July': 7, 'August': 8, 'September': 9, 'October': 10, 'November': 11, 'December': 12\n",
    "    }\n",
    "    month_num = month_to_num.get(month, None)\n",
    "    if month_num is not None:\n",
    "        if month_num in [3, 4, 5]:\n",
    "            return 'Spring'\n",
    "        elif month_num in [6, 7, 8]:\n",
    "            return 'Summer'\n",
    "        elif month_num in [9, 10, 11]:\n",
    "            return 'Autumn'\n",
    "        else:\n",
    "            return 'Winter'\n",
    "    else:\n",
    "        return None\n",
    "\n",
    "# Apply the function to create a new column 'season'\n",
    "df_w_nulls['season'] = df_w_nulls['month'].apply(get_season)"
   ]
  },
  {
   "cell_type": "code",
   "execution_count": 89,
   "metadata": {},
   "outputs": [],
   "source": [
    "df_w_nulls = df_w_nulls.rename(columns={'fecha': 'Date', 'Ruta': 'Route', 'OperadOR': 'Operator', 'ac_type': 'Aircraft Type', 'all_aboard': 'Total Aboard', 'cantidad de fallecidos': 'Total Fatalities', 'summary': 'Summary', 'year': 'Year', 'season': 'Season', 'month': 'Month', 'all_aboard': 'All Aboard', 'fecha': 'Date', 'PASAJEROS A BORDO': 'Passengers Aboard', 'crew_aboard': 'Crew Aboard', 'passenger_fatalities': 'Passenger Fatalities', 'crew_fatalities': 'Crew Fatalities'})"
   ]
  },
  {
   "cell_type": "markdown",
   "metadata": {},
   "source": [
    "Convert to null and check NaN with fewer columns:"
   ]
  },
  {
   "cell_type": "code",
   "execution_count": 90,
   "metadata": {},
   "outputs": [
    {
     "name": "stdout",
     "output_type": "stream",
     "text": [
      "Date                      0\n",
      "Route                     5\n",
      "Operator                 10\n",
      "Aircraft Type            13\n",
      "All Aboard               17\n",
      "Passengers Aboard       221\n",
      "Crew Aboard             219\n",
      "Total Fatalities          8\n",
      "Passenger Fatalities    235\n",
      "Crew Fatalities         235\n",
      "Year                      0\n",
      "Month                     0\n",
      "Season                    0\n",
      "dtype: int64\n"
     ]
    }
   ],
   "source": [
    "df_w_nulls = pd.DataFrame(df_w_nulls)\n",
    "df_w_nulls.replace('?', pd.NA, inplace=True)\n",
    "\n",
    "# Count null values in each column\n",
    "null_counts = df_w_nulls.isnull().sum()\n",
    "\n",
    "print(null_counts)"
   ]
  },
  {
   "cell_type": "code",
   "execution_count": 91,
   "metadata": {},
   "outputs": [],
   "source": [
    "df_wo_nulls = df_w_nulls.dropna(subset=['Route', 'Operator', 'Aircraft Type', 'All Aboard', 'Passengers Aboard', 'Crew Aboard', 'Total Fatalities', 'Passenger Fatalities', 'Crew Fatalities'])"
   ]
  },
  {
   "cell_type": "code",
   "execution_count": 92,
   "metadata": {},
   "outputs": [
    {
     "data": {
      "text/plain": [
       "(4751, 13)"
      ]
     },
     "execution_count": 92,
     "metadata": {},
     "output_type": "execute_result"
    }
   ],
   "source": [
    "df_wo_nulls.shape"
   ]
  },
  {
   "cell_type": "markdown",
   "metadata": {},
   "source": [
    "The amount of rows is enough to continue with the analysis, even without the NaN values"
   ]
  },
  {
   "cell_type": "code",
   "execution_count": 93,
   "metadata": {},
   "outputs": [],
   "source": [
    "# df_wo_nulls.to_csv(\"AircraftAccidents.csv\")"
   ]
  },
  {
   "cell_type": "markdown",
   "metadata": {},
   "source": [
    "---"
   ]
  },
  {
   "cell_type": "markdown",
   "metadata": {},
   "source": [
    "### First analysis attempt for KPI #2: accidents related in 'Aircraft Type'"
   ]
  },
  {
   "cell_type": "code",
   "execution_count": 94,
   "metadata": {},
   "outputs": [],
   "source": [
    "df_aa = df_wo_nulls"
   ]
  },
  {
   "cell_type": "code",
   "execution_count": 95,
   "metadata": {},
   "outputs": [
    {
     "name": "stdout",
     "output_type": "stream",
     "text": [
      "2365\n"
     ]
    }
   ],
   "source": [
    "unique_values = df_aa['Aircraft Type'].nunique()\n",
    "print(unique_values)"
   ]
  },
  {
   "cell_type": "code",
   "execution_count": 96,
   "metadata": {},
   "outputs": [
    {
     "name": "stdout",
     "output_type": "stream",
     "text": [
      "Number of unique values in Column1: 2197\n"
     ]
    }
   ],
   "source": [
    "unique_values = df_aa['Operator'].nunique()\n",
    "\n",
    "print(f'Number of unique values in Column1: {unique_values}')"
   ]
  },
  {
   "cell_type": "code",
   "execution_count": 97,
   "metadata": {},
   "outputs": [
    {
     "data": {
      "text/plain": [
       "0    Wright Flyer III\n",
       "Name: Aircraft Type, dtype: object"
      ]
     },
     "execution_count": 97,
     "metadata": {},
     "output_type": "execute_result"
    }
   ],
   "source": [
    "df_aa['Aircraft Type'].head(1)"
   ]
  },
  {
   "cell_type": "code",
   "execution_count": 98,
   "metadata": {},
   "outputs": [
    {
     "name": "stdout",
     "output_type": "stream",
     "text": [
      "Date                    0\n",
      "Route                   0\n",
      "Operator                0\n",
      "Aircraft Type           0\n",
      "All Aboard              0\n",
      "Passengers Aboard       0\n",
      "Crew Aboard             0\n",
      "Total Fatalities        0\n",
      "Passenger Fatalities    0\n",
      "Crew Fatalities         0\n",
      "Year                    0\n",
      "Month                   0\n",
      "Season                  0\n",
      "dtype: int64\n"
     ]
    }
   ],
   "source": [
    "null_counts = df_aa.isnull().sum()\n",
    "\n",
    "print(null_counts)"
   ]
  },
  {
   "cell_type": "markdown",
   "metadata": {},
   "source": [
    "Tried to use different methods to categorize on aicraft type, like: \n",
    "- Zeppelin\n",
    "- Airplane\n",
    "- Helicopter"
   ]
  },
  {
   "cell_type": "code",
   "execution_count": 99,
   "metadata": {},
   "outputs": [],
   "source": [
    "ac_type_list = df_aa['Aircraft Type'].tolist()"
   ]
  },
  {
   "cell_type": "code",
   "execution_count": 100,
   "metadata": {},
   "outputs": [
    {
     "name": "stdout",
     "output_type": "stream",
     "text": [
      "['Bristol 175 Britannia 312', 'Swearingen SA227-AC Metro III', 'Airbus A320-214', 'Douglas DC-2-120', 'Lockheed 1339', 'Boeing 737-4Q8', 'Savbia-Marchetti  S-73P', 'Curtiss C-46D', 'de Havilland DHC-6', 'McDonnell Douglas MD-81', 'Boeing B-707-131', 'Iluyshin Il-86', 'Hindustan Aeronautics 748-2M', 'Boeing B-747-121A', 'Convair B-36', 'Bristol 170 Freighter 31E', 'Britten-Norman BN2A-III-2 Trislander', 'Douglas DC-5', 'de Havilland Canada DHC-3 Otter', 'Mc Donnell Douglas MD-83', 'Antonov 74T-200', 'Boeing B-747-244B Combi', 'Lockheed C-130A Hercules', 'CASA 212 Aviocar 200', 'Britten-Norman BN-2A-6 Islander', 'Tupolev Tu-124', 'Britten-Norman BN-2A-8 Island', 'Douglas DC-2-115H', 'Rockwell Gulfstream Jetprop 840', 'Mitsubishi MU-2B-60', 'Antonov AN-12A', 'Ilyushin 14M', 'Antonov 2TP', 'Douglas C-49E', 'Ilyushin IL -12', 'Antonov AN-12B', 'Douglas DC-7BF', 'Boeing B-727-22QC', 'Douglas DC9-15F', 'Embraer 120RT Brasilia', 'de Havilland 89A Dragon Rapide', 'Curtiss C-46E', 'Boeing RB-52B', 'Douglas DC-7CF', 'Convair 600', 'Britten-Norman BN-2A-9 Islander', 'Antonov An-72', 'Douglas C-54B / P-38', 'Britten Norman BN-2A-21 Trislander', 'Ilyushin Il-76', 'Stinson SM-6000B', 'Lockheed L-1049H Super Constellation', 'Short S-26 (flying boat)', 'Ilyushin IL-12B', 'Boeing B-727-225', 'Boeing 707-324C', 'Douglas DC-3 -201D/ F-6-F- 5 Hellcat', 'Junkers JU-52/3m', 'Vickers 628 Viking 1B', 'Fokker F10A Trimotor', 'Caravelle VIR', 'Short S-23 Empire Flying Boat', 'Short Sandringham 6 (flying boat)', 'Convair CV-990-30A-6', 'Douglas DC-3-A-269', 'Embraer 110P2 Bandeirante', 'Tupolev Tu-142M3', 'Boeing 707-360C', 'Airbus A-320-233', 'DHC-5 Buffalo', 'Boeing 737-2R4C', 'Pilatus-Britten Norman BN-2B-27 Islander', 'Cessna 501 Citation', 'Lockheed Vega 5', 'Ilushin Il-14', 'Let 410MU', 'Douglas DC-3-3', 'Chance Vought F-8E', 'Avro 691 Lancastrian 1', 'Fokker F-28 Fellowship 3000RC', 'Antonov 12B', 'Douglas A-3D Skywarrior', 'MD Douglas DC-9-15 / Beechcraft Baron-55', 'Britten-Norman BN-2A Islander', 'CASA NC-212', 'Ilyushin 18V', 'Sud Aviation SE-210 Caravelle VIN', 'Canadair C-4-1 Northstar / Harvard Mark II', 'Potez 621', 'Boeing B-747-209BSF', 'Martin 404', 'Bell UH-1H', 'Airbus A.320-214', 'Boeing KC-135C', 'Lockheed L-414 Hudson', 'Yunshuji Y-12-II', 'Vickers 614 Viking 1', 'Mitsubishi MU-2B', 'Pitcairn PA-6 Mailwing', 'Boeing 747-244B-SF', 'Lockheed C-141A (L.300)', 'Boeing B-727-134', 'Curtiss C-46D-10-CU', 'Antonov An 26B-100', 'Bristol Britannia 312', 'Douglas VC-47A', 'McDonnell Douglas DC-10-30CF', 'Tupolev 154M', 'Bell 206-L4 Jet Ranger III', 'Fairchild FH-227B', 'Liore et Olivier H-246 Air Boat', 'Consolidated Catalina PB2Y-3R', 'Junkers JU-53/3m', 'Five Grumman TBM Avengers', 'Boeing B-707-465', 'Antonov An-2 / Antonov An-12', 'Convair CV-640', 'Fairchild 51', 'Aérospatiale/Aeritalia ATR-72-202', 'Hawker 800A', 'Let L-410UVP-E20', 'ATR 42-300', 'Canadair CRJ-200ER', 'Short Sandringham 5 (flying boat)', 'Sud Aviation Caravelle 3', 'ATR-42-320', 'Fairchild C-119', 'Beech King Air B90', 'Short S-30 (flying boat)', 'Ford model 4-AT-E', 'Piper PA-32-R301 Saratoga II HP', 'Ilyushin76TD', 'Boeing C-97C', 'Boeing B-17F / Boeing B-17F', 'McDonnell Douglas DC-8-63F', 'IAI 1124A Westwind', 'Lockheed C-130B', 'Fokker F-XII', 'Fairchild-Hiller FH-227-B', 'Douglas DC-6', 'Convair CV-300', 'Lockheed R7V-1', 'Aerospatiale BAe Concorde 101', 'Boeing B-720-047B', 'Faucett F-19', 'Boulton and Paul P-71', 'Embraer 110P Bandeirante', 'Hawker Siddeley HS-748-246', 'Lockheed L-1011 TriStar 1', 'Douglas C-47A-90 DL (DC-3)', 'British Aerospace BAe-125-700A', 'Shorts 360', 'Boeing B-737-2H4', 'Tupolev Tu-124V', 'Lockheed MC-130H Hercules', 'Lockheed 749A-79 Constellation', 'Britten Norman BN-2A-26', 'Zeppelin LZ-129', 'Fairchild C-123B', 'Ford 5-AT-D Tri-Motor', 'de Havilland DHC -6-100', 'Eurocopter AS-350BA', 'Britten Norman BN-2A Trislander II', 'Airbus A300B2-101', 'British Aerospace Nimrod MR-2', 'Tupolev TU-104-A', 'Tupolev TU-134A', 'de Havilland DH-34', 'Sikorsky S-42A  Flying Boat', 'Sikorsky S-42B (flying boat)', 'Douglas DC-2', 'Norman BN-2A-6', 'Curtiss C-46F-1CU', 'Airbus A320-111', 'McDonnell Douglas DC-8-61F', 'Antonov An-12', 'Tupolev TU-154', 'Sud Aviation SE-210 Caravelle III', 'Junkers 52/3m', 'Douglas DC-7C', 'Curtiss-Wright C-14 Osprey', 'Sikorsky S43 (flying boat)', 'Fairchild FH-227E', 'BAE Avro RJ100', 'Avro 685 York C1', 'Boeing B-767-366ER', 'Boeing B-747-121 / Boeing B-747-206B', 'Boeing B-747-230B', 'Lockheed C-141B / Lockheed C141B', 'Martin 202', 'Fokker F-27 Friendship 400M', 'Embraer 120 Brasilia', 'Boeing B-767-200ER', 'Douglas C-47A-1-DK', 'Ilyushin IL-14M', 'Aero Commander 500-B', 'Cessna 180H', 'Junkers G-24', 'McDonnell Douglas DC-8-63', 'Douglas C188-B', 'Dassault Breguet Atlantique', 'IAI Arava 201', 'McDonnell Douglas DC-9-82 / Cessna 441', 'Lockheed 1049E Super Constellation', 'Tupolev TU-104B', 'De Havilland DH-104 Dove', 'Let 410UVP-E', 'Boeing 777-236ER', 'Antonov AN-22', 'Douglas C-47A-80-DL', 'Short S-23', 'de Havilland DH-89 Dragon Rapide', 'Grazhdansky Vozdushnyi Flot PS-84', 'Fokker Universal F-14', 'Fokker 27 Friendship 200', 'British Aerospace Jetstream 41', 'Douglas DC-2-112', 'Rochrbach Roland', 'Avro 691 Lancastrian IV', 'Antonov AN-8', 'Douglas DC-4 (C-54)', 'Antonov 24B', 'Aerospatiale AS 332L1 Super Puma', 'Lioré-et-Olivier H-13', 'Convair C-131D (CV-340-79)', 'Douglas DC-2-243', 'Vickers Viscount 708', 'Howard 250', 'Boeing B-737-3Y0', 'Consolidated B-24 Liberator', 'Boeing B-720-051B', 'Nord 262', 'de Havilland Canada DHC-8-103', 'Douglas DC-4 /Beechcraft SMB-1', 'Tupolev TU-154M', 'Boeing 767-375ER', 'Ford Tri-motor', 'Nakajima A-T2', 'Ilyushin 76TD', 'Boeing B-727-251', 'Stinson SM-2A', 'Martin 202A / DC-3', 'British Aerospace Jetstream 4101', 'Boeing B-720B-023B', 'CMASA Wal', 'Ford 5-AT-C Tri Motor', 'Douglas DC-6BF', 'Embraer 110 Bandeirante', 'Lockheed C-130E', 'Saab 340A', 'Curtiss C 46F-CU', 'Transall C-160D', 'Vickers 828 Viscount', 'Boeing B-747-412', 'McDonnell Douglas DC-8-62', 'Douglas DC-3 (C-50A-DO)', 'Stinson SM-6000-B', 'Travel Air 6000', 'Cessna 185', 'Convair CV-240', 'Lockheed Vega 5C', 'Douglas DC-3 (C-47-B-1-DK)', 'Antonov An-32', 'Handley Page W-8', 'Hawker Siddeley HS-748-209 Srs. 2', 'SNCASE SE.2010 Armagnac', 'Lockheed 049-46-25 Constellation', 'De Havilland DH-60', 'Canadair CL-44', 'Boeing B-29A Superfortress', 'Boeing 747-246F', 'Douglas C-54B-1-DC', 'Kalinin K-4', 'Sikorsky S-43 (flying boat)', 'Caudron C-61', 'Heinkel HE-2', 'Boeing B-737-282', 'Farman F-190', 'Handley Page HP-57 Halifax', 'Lockheed 749-79-34 Constellation', 'Beechcraft B-99', 'Antonov An-24', 'Sud Aviation SE-210 Caravelle VIR', 'Antonov AN-28 PZL-Mielec M-28 Sky Truck', 'Learjet 23A', 'Northrop Alpha 3', 'Swearingen SA227AC Metroliner III', 'Fiat G.212CP', 'Douglas DC-3-178', 'Consolidated PBY-2 / Consolidated PBY-2', 'Douglas DC-3 / USN R4-D6', 'Curtiss C-46A-60-CS', 'Aerospatiale AS355-F1', 'Curtis C-46A', 'Douglas DC-3 ( C-47-DO)', 'McDonnell Douglas DC-9-31 / Trident 3B', 'Ilyushin IL-18V', 'Eurocopter AS350-B2', 'ATR 72-500', 'Yakovlev YAK-42', 'Fairchild C-82 Packet', 'UH-60 Blackhawk helilcopter', 'Pilatus Pc-6C', 'Cessna 177RG', 'Lockheed 18 Loadstar', 'Ryan M-1', 'CH53E Sea Stallion', 'Bleriot Spad 27', 'Lockheed WV-2', 'Helicopter, Hughes 369HS', 'Swearingen SA-227AC Metro III', 'Ilysushin Il-76T', 'Vickers Wellington bomber', 'Rockwell Sabreliner 60', 'British Aerospace APT', 'Convair RB-36H', 'Cessna 421C Golden Eagle', 'UC-64A Noorduyn Norseman', 'ATR42-320', 'Douglas C-47-A-75-DL Skytrain', 'Douglas M-4', 'Antonov 26', 'Boeing 377 Stratocruiser', 'Douglas C-47J', 'Short S-8 Calcutta flying boat', 'Curtiss C-46-F-1-CU', 'Lockheed C-5A Galaxy', 'Boeing B-727-113C', 'Avro 689 Tudor 5', 'Vickers Viscount 754D / Douglas C-47', 'Antonov An-24B', 'Transall C-160NG', 'Let L-410UVP-E', 'Avro 10', 'Lockheed L-749A Constellation', 'Douglas DC-2-172', 'Lockheed P-3C / Convair CV-990-30A-5', 'Let L410UVP-E20', 'Gates Learjet 35A', 'Airbus A300F-622R', 'Short Calcutta (flying boat)', 'Boeing B-727-27C', 'Eurocopter AS350B2', 'Douglas DC-4 (C-54A-DO)', 'Ilyushin IL-12', 'Lockheed L-188AF Electra', 'BAC VC-10-1101', 'MD Douglas DC-9-32 / Piper PA-28-181', 'V6 (airship)', 'Hawker Siddeley HS-748-357/2B SCD', 'Airbus A330-321', 'Swearingen SA-227BC Metroliner III', 'Fairchild C-110F', 'Military - U.S. Air Force', 'Boeing B-747', 'Beech BE-1900D', 'Douglas C-124C Globemaster', 'Boeing B-727-2A7', 'Lockheed EC-121P', 'Fokker F-VIIb-3m', 'Tupolev A.N.T. 20bis', 'Convair CV-440-59', 'Lockheed EC-130Q', 'Bae Jetstream 3201', 'McDonnell Douglas DC-9-31', 'de Havilland Canada DHC-6 Twin Otter 100', 'SNCASE Languedoc', 'Aerospatiale AS-350B', 'PZL-Mielec AN-2R', 'Junkers JU-52', 'Beech A36', 'Boeing B-737-2A1', 'A-7D Corsair', 'Hawker Siddeley HS-748-FAA', 'Caudron C-630 Simoun', 'Boeing 727-24C', 'Beechcraft A100 King Air', 'de Havilland Canada DHC-7-102', 'Junkers JL-6', 'Hawker Siddeley HS-748-329 Srs. 2A', 'Dornier DO.18 (float plane)', 'Hawker Siddeley HS-748-215-2', 'Boeing B-707-379C', 'Dornier Do-228-212', 'Curtiss C-46A-CU', 'de Havilland DH-4', 'Lisunov Li-2P', 'de Havilland DH.80 Puss Moth', 'Avro Shackleton AEW-2', 'Beechcraft B300 King Air', 'Hawker Siddeley HS-748-230 Srs. 2A', 'Convair CV-440-12', 'Boeing B-747-209B', 'Boeing B-707-3B5C', 'GAF Nomad N-24A', 'Boeing B-747-130', 'Airbus A300-B4-200', 'Lockheed Hudson', 'Boeing B-737-247 / Boeing B-757-21B', 'Airbus A-330-243', 'Douglas DC-3 ( C-53D-DO)', 'Tupolev TU-154M / C-141 Starlifter', 'Boeing 737-236', 'Vickers Viscount 748D', 'Canadair C-4 Argonaut', 'de Havilland Canada U-1A Otter', 'Vickers Viking 610-1B', 'Convair B-36D', 'GVF PS-84', 'Consolidated PB4Y-1', 'Piper PA-23', 'Arava 201', 'Airbus A-310-324ET', 'Beechcraft B200 Super King Air', 'Douglas DC-3A-228D', 'Convair CV-340-32', 'CH-47 Chinook', 'Douglas C-48', 'Convair CV-580', 'Douglas DC-3-313', 'Learjet 25D', 'Cessna 441 Conquest II', 'Boeing B17G', 'Boeing 307B-1 Stratoliner', 'Sikorsky  S 76 A', 'H-21B', 'Antonov AN-26-100', 'Douglas C-53D-DO (DC-3)', 'F-4C Phantom jet fighter', 'SNIAS SA330J', 'McDonnell Douglas DC-9-15RC', 'Antonov An12-A', 'Avro York C1', 'Douglas DC-6A', 'de Hvilland 89A Dragon Rapide', 'Ilyushin Il-76T', 'Convair CV-880', 'Lockheed L-188C Electra', 'Junkers JU-90A-1', 'Boeing B-747-200', 'Douglas C-47A-60-DL', 'Dornier DO-228-212', 'Fokker FG II', 'Boeing Vertol CH-47A (helicopter)', 'Let L-401UVP-20', 'Let 420UVP-E', 'Antonov 26B-100', 'Kawasaki C-1A', 'Douglas C-54D-1-DC', 'CASA NC-212-200', 'Robertson R44 helicopter', 'Ilyushin IL-76T', 'Helicopter', 'MI 172 V5 helicopter', 'McDonnell Douglas DC-8-43', 'Boeing B-727-235', 'Sukhoi Su-27', 'Antonov AN-26V', 'Swearingen SA.226TC Metro II', 'Boeing B-737-2P5', 'Boeing 737-500', 'Bristol 170 Freighter 21E', 'Boeing B-727-200', 'Douglas DC-3-194H', 'Lockheed 049-46-21 Constellation', 'Boeing 737-200', 'Aerocomp Comp Air 8', 'Let 410UVP Turbojet / Tupolev TU-134V', 'Boeing B-747-2R7F', 'Beechcraft H50', 'Cessna 177B', 'Lockheed C-141B', 'Saro A-19 Cloud', 'Antonov An-12BK', 'Boeing B-737-291', 'Junkers Ju53/2m', 'Ilyushin IL-2', 'Boeing B-727-227', 'Antonov 74TK-300', 'Short SC7- Skyvan', 'Boeing 40', 'Vickers 610 Viking-1B', 'Fairchild-Hiller FH-227B', 'Eurocopter EC135 T2', 'Handley Page HPR-7 Herald 101', 'de Havilland DH-114 Heron', 'DC-3-65TP', 'Heinkel He-70', 'Heinkel He-111', 'Boeing B-727-30', 'Bell 206 L-1', 'de Havilland Canada DHC-6 Twin Otter', 'Lockheed 18 LodeStar', 'Curtiss C-46F-1-CU', 'McDonnell Douglas DC-8-62H', 'OFM F-VIIb/3m', 'de Havilland DH.89 Dragon Rapide', 'Douglas C-47A-30-DK Dakota III', 'Douglas C-54B-5-DO', 'Boeing 737-8AS', 'Lockheed C-130H Hercules', 'Douglas C-118A', 'Aerospatiale ATR-42-512', 'Convair CV-440-62', 'Lockheed C-130 Hercules', 'BAC One-Eleven 527FK', 'Boeing B-737-3B7', 'Cessna 207 / Cessna 207', 'Douglas C47-TP', 'Learjet 35A', 'Boeing 720', 'Canadair CL-601-2A12 Challenger', 'Pilatus PC-6 Turbo Porter / Cessna 206', 'Boeing 727-243F', 'Bristol Britannia 175', 'Ford 5-AT-B Tri-Motor', 'Handley Page HP-81 Hermes 4A', 'Bell 205A', 'Vickers 952F Vanguard', 'Savoia-Marchetti S-66', 'McDonnell-Douglas MD-82', 'Fokker F-28 Fellowship 2000', 'Airbus A-310-204', 'Lockheed L-749-79-33 Constellation', 'CMASA Wal (flying boat)', 'Cessna 185A', 'Grumman G-21A Goose', 'Piper PA-31-310 Navajo', 'Convair CV-580 / Cessna 150', 'Aero Commander 500A', 'Douglas DC-8-55F', 'Douglas DC-3 (C-47B-DK)', 'Shorts SC-7 Skyvan', 'Vickers Viscount', 'Soloy 12EJ3', 'CASA 212-CC', 'Wibault 283-T12', 'de Havilland DH-114 Heron 2B', 'Hawker Siddeley HS-748 2A', 'Cessna 404 Titan II', 'EMB 721C Sertanejo', 'Hawker Siddeley HS-121 Trident 2E', 'Cessna 560 Citation V', 'Boeing B-737-2L9', 'Ilyushin IL-14', 'Antonov AN-72-100D', 'Mitsubishi MU-2B 60 Marquise', 'Shaanxi Y-8F-200W', 'Douglas C-47D', 'Boeing B-747-122', 'Grumman G-159 Gulfstream I', 'Beechcraft 95-B55', 'Embraer 120ER Brasilia', 'Boeing B747-44AF', 'Ford 4-AT-E Tri-motor', 'Handley Page HPR-7 Herald 214', 'Vickers Viscount 739A', 'Boeing B-727-231', 'Airbus A330-203', 'Tupolev TU-124V', 'Boeing B-747-237B', 'Convair CV-440-11', 'Sikorsky S-61N-II', 'de Havilland DH-114 Heron 2', 'Cessna 402C Utililiner', 'Boeing B-737-4Y0', 'Vickers Viscount 739B', 'Ilyushin Il-76TD', 'Douglas DC-7B', 'Boeing Vertol Chinook HC-2 (helicopter)', 'Mil Mi-18 Helicopter', 'Beechcraft BE-99-C99', 'Lisunov LI-2', 'Bell Huey UH-1H', 'Salmson 2-A-2', 'Lockheed WV-2 Super Constellation', 'Sud Aviation SE-210 Caravelle 6N', 'Boeing 707-330C', 'Let 410A', 'Airbus A321-231', 'Antonov 12V', 'Douglas A-26B Invader', 'de Havilland DHC-2 MK.1 Beaver', 'North American F-100D-25NA', 'Douglas C-47B-40-DK', 'Curtiss C-46D-CU', 'Fairchild C-119C', 'Canadair CL-600-2B16 Challenger 604', 'Swearingen SA.226TC Metro I', 'Beechcraft 1900D', 'Savoia-Marchetti SM-75', 'Boeing B-707-328B', 'Boeing - EC-135K', 'McDonnell Douglas DC-8-51', 'Douglas C-47 Skytrain', 'Boeing B-767-233ER', 'Douglas C-54E-5-DO', 'Doublas C-47', 'Fokker F-28 Fellowship 1000 / MiG-21', 'Lockheed CC-130E', 'Tupolev Tu-154B-2', 'Boeing 737-201', 'Douglas DC-3 / Avro Anson', 'Curtis C-46E-1-CS Commando', 'Douglas C-74', 'Curtiss C-46F', 'Douglas DC-8-43F', 'Ford Tri-Motor', 'Latécoère 28-1', 'Douglas DC-3 / Lockheed B-34', 'Bell BHT-206-B Helicopter', 'Savoia Marchetti SM 73', 'Boeing B-707-331B', 'Vickers 74 Vulcan', 'Fairchild C-119C-15-FA Flying Boxcar', 'Short Stirling', 'Airbus A300B4-203', 'Boeing B-707-321B', 'British Aerospace 3101 Jetstream 31', 'Ford 5-AT-B Tri-Motor / B-PW-9D', 'Lockheed C-69 Constellation', 'ATR-72-212', 'Armstrong-Withworth Atlanta', 'Fairchild-Hiller FH-227B-LCD', 'Antonov AN-12BP', 'Beechcraft 1900-C / Beech King Air A90', 'Douglas C-47A-1', 'Curtiss C-46A-55-CK', 'Tupolev Tu-104A', 'Bell UH-1N', 'Avro Anson', 'Junkers G-31', 'Airbus A320-211', 'Boeing B-737-566', 'Fokker FG III', 'Beechcraft B99', 'ConvairCV-440', 'Shin Meiwa PS-1', 'Fokker F-27 MK 500', 'Avro Shackleton MR-2', 'Convair CV-990-30A-5 Coronado', 'Ilyushin IL-76', 'Lockheed C-121C Super Constellation', 'Armstrong-Whitworth F-K-8', 'Lockheed P-3A Orion', 'Airbus A320-212', 'Catalina Flying Boat', 'Fairchild-Hiller FH227C', 'Boeing B-707-138B', 'Cessna 402 / Piper PA-28', 'Short Sunderland 3', 'Aerospatiale Caravelle 6N', 'Fokker F-27 Friendship 600RF', 'McDonnell Douglas DC-9-32', 'Vickers Valetta Mk1 / Avero Lancaster', 'Hawker Siddeley HS-748 2', 'Airbus A300-600R', 'Douglas C-54D-DC (DC-4)', 'Short Sunderland', 'Antonov An-12B', 'British Aerospace ATP', 'Ilyushin IL-62M', 'Ilyushin II-76', 'Hawker Siddeley HS-748-501 Super 2B', 'Avia 14M-40', 'Grumman G73T Turbo Mallard', 'Learjet 60', 'Curtiss R-4LM', 'Boeing B-707-366C', 'Antonov An-24 V', 'Curtiss C-46D-15--CU', 'EC-121H (Super Constellation)', 'Avro 691 Lancastrian', 'Junkers W-33', 'Antonov AN-2TP', 'Antonov AN-32 Transport', 'Convair CV-440-80', 'Lockheed C-130E Hercules', 'Fairchild F-27J', 'Cessna 402C', 'Sikorsky S-76A', 'Ford Tri-motor 5', 'Convair CV-240-4', 'Grumman Gulfstream G3', 'Beechcraft 99', 'Vickers 785D Viscount', 'Bleriot Spad 33', 'Tupolev TU-134A / Antonov An-26', 'Handley Page Hastings C Mark 1', 'Fairchild packet (C119 flying boxcar)', 'MD Douglas DC-9-31/Piper Cherokee PA-28', 'Douglas C-47A-75-DL Dakota 3', 'Boeing B-737-2H7C', 'Boeing 737-8KV WL', 'Antonv An-24B', 'Handley Page Hastings C-2', 'Antonov AN-10A', 'Sud Aviation Caravelle 10R', 'Beechcraft C45G', 'de Havilland  Canada  DHC-5D Buffalo', 'Sikorsky S-76B helicopter', 'Lockheed 14H Super Electra', 'Aerospatiale Caravelle Super 10B', 'de Havilland DH-34B', 'Dassault Falcon 20E', 'Douglas DC-7 / F-100F', 'Boeing 737-7H4', 'Mc Donnell Douglas MD-81', 'Fokker 28 Fellowship 1000', 'Lockheed 1049G-55 Super Constellation', 'Douglas DC-3 (C-47A-DK)', 'HS-125-700B', 'Cessna 402', 'Mi-8MTV-1', 'Boeing B-727-232 Adv', 'Cessna 206', 'Shorts 360-100 /Shorts 360-300', 'Fairchild 71', 'Antonov An-12TB', 'Canadair CL-600 CRJ-100ER', 'Boeing B-707-437', 'Yakovlev YAK-40', 'CF-100 Mark 4B', 'Boeing B-747-258F', 'Loening C-2C', 'Douglas DC-3DST', 'Fokker F.III', 'Aerospatiale SA-330J', 'Lockheed L-749A-79 Constellation', 'Boeing B-747-466', 'Douglas DC-3 Dakota', 'Sud Aviation SE 210 Caravelle III', 'Piper PA-31-325 Navajo', 'Aerospatiale 330J Puma', 'Convair CV-440 -62', 'Boeing 707-321CF', 'de havilland Canada Twin Otter 200', 'Douglas C-47A-DL', 'Douglas C-47 Skytrain (DC-3)', 'Douglas DC-3-455', 'Douglas C-54A-5-DC', 'Lockheed 14 Electra', 'Twin Apache', 'Lockheed L-649 Constellation', 'Boeing B-737-236', 'Antonov 28', 'Eurocopter AS-350BA / Piper PA-32R-300', 'Boeing 737-230', 'Boeing 707-327C', 'Grumman G-21A', 'Mil Mi-8T (helicopter)', 'NAMC YS-11A-219', 'Sikorsky S61-L', 'Latecoere 25-3-R', 'Bristol 28 Tourer', 'Vickers Viscount 838', 'Boeing B-737-210C(A) Combi', 'de Havilland Canada DHC-3T', 'LET 410MT Turbojet', 'Antonov An-2', 'Tupolev Tu-114', 'Nord 2501 Noratlas', 'Gates Learjet 24B', 'Grumman Gulfstream II', 'Britten-Norman Islander', 'Convair CV-880 / McDonnell DC-9-31', 'Lockheed 1049H-82 Super Constellation', 'LET 410UVP', 'Douglas C-47B', 'Douglas C-47A (DC-3)', 'Bell 214 ST', 'Beechcraft Bonanza 35', 'McDonnell Douglas DC-9-15', 'Boeing B-707-123B', 'Convair CV-340-59', 'Antonov AN-72', 'Farman F-63', 'Lockheed C-130J Hercules', 'Let-410UVP-E', 'Antonov 12MGA', 'Curtiss AT-32C Condor', 'Grumman G-21 Goose', 'Fairchild', 'Sukhoi Superjet-100-95B', 'Lockheed C-5A', 'Douglas C-47 / Douglas DC-3', 'Boeing B377-10-28 Stratocruiser', 'Beech 200 Super King Air', 'Avro Lancaster 1', 'Antonov 12BP', 'Douglas C-54A-DO', 'Lockheed C-130', 'Vickers Viscount 794D', 'Ilyushin Il-14', 'Short Sunderland 9 (flying boat)', 'DHC-6 Twin Otter 300 / NAMC YS-11', 'de Havilland Dash-2 Beaver', 'Boeing B-707-441', 'Vickers Viscount 720', 'Douglas DC-3 (C-54A-DO)', 'Lockheed L-1011-200', 'McDonnell Douglas DC-8', 'British Aerospace BAe 125-700A Hawker', 'Boeing Vertol CH47C (helicopter)', 'Harbin Yunshuji Y-12-II', 'Xian MA-60', 'Hawker Siddeley HS-748-2', 'Douglas C-54A', 'CRDA CANT Z-506', 'Lockheed Martin L-100-10', 'McDonnell Douglas MD-83', 'Ilyushin IL-76MD', 'Canadair CRJ200LR RegionalJet', 'Avro 504', 'Focke-Wulf A-17', 'Douglas DC-4 (C-54G-1-DO)', 'Enstrom F-28F', 'Lockheed C-130H-30', 'Fairchild R4Q / Dougas AD-6 skyraider', 'Lockheed C130D', 'Boeing B-737-4Q8', 'Lockheed L 1049G Super Constillation', 'Li-2 / Li-2T', 'Yunshuji Y-8D', 'F-88 Sabre Jet', 'Vickers Valetta C-Mk.1', 'Sikorsly S-58ET', 'Farman F-121 Jabiru', 'Dornier Wal', 'McDonnell Douglas DC-9 and Cessna 150F', 'Boeing Vertol CH-47 (helicopter)', 'Tuolev 134AK', 'Beech G18S', 'Douglas DC-7B / U.S. Air Force F-89J', 'Swearingen SA.227AC Metro III', 'Boeing B-727-223', 'Douglas C-47 Dakota-DK', 'British Aerospace BAe-125-800A', 'Lockheed P2V-7', 'McDonnell Douglas DC-8-52', 'Sud-Aviation Caravelle VI-N', 'Curtiss C-46-CU', 'Consolidated Fleetster', 'Lisnov Li-2', 'Consolidated PBY-5A  Catalina', 'Airbus A320-231', 'Mil Mi-8', 'de Havilland Canada DHC-5D Buffalo', 'de Havilland Canada DHC-2 Beaver MK- 1', 'Travel Air 4000', 'DC-2-243', 'Antonov AN-24', 'Hawker Siddeley HS-748 1', 'Bombardier DHC-8-402 Q400', 'Fokker F-10A', 'Fairey Firefly MK1', 'Bell 206B', 'de Havilland DH.50J', 'Boeing C-97A Stratofreighter', 'Hamilton H-47', 'Nord 262E', 'Savoia-Marchetti SM73', 'Douglas DC-6AB', 'HAL-748-224', 'Lockheed 18 Lodestar', 'GAF N22B Nomad', 'Convair CV-240-2', 'Eurocopter EC225LP Super Puma M2+', 'Rockwell International 690B', 'De Havilland DH-61', 'Messerschmitt M-20B', 'Stinson SR-7 Reliant', 'Boeing 737-31S', 'Vickers 813 Viscount', 'Boeing B-707-338C', 'Short Empire Flying Boat', 'Shorts SC-7 Skyvan 3-300', 'Canadair CL-604', 'Vickers 634 Viking 1B', 'Piper PA-31-350 Navajo Chieftain', 'de Havilland 106A', 'Latecoere 28-1', 'deHavilland DH-86', 'Eurocopter EC-130 B4', 'de Havilland DHC-2', 'Ilushin IL-14', 'Lockheed  188A Electra', 'Boeing B-737-2V2', 'Lockhed 10 Electra', 'Boeing 221', 'Stinson', 'Embraer 120-RT Brasilia', 'Aerospatiale Alenia ATR-42', 'Boeing B-737-3Q8', 'Boeing B-707-320', 'Lockheed P-2E Neptune', 'Curtiss Wright C-46F', 'Handley Page HPR-7 Herald 211', 'Yakovlev 40D', 'Reims Aviation 406', 'Douglas DC-3-201F', 'Stinson AT-19', 'Antonov AN-24RV', 'Let 410UVP-E20', 'Mil MI-8T', 'Douglas C-47B-dK', 'Aeroflot', 'Douglas C-54A-DC (DC-4)', 'Antonov An-12BP', 'Boeing 737-86J', 'Heinkel 116', 'Boeing B-707-344C', 'Bell 214ST helicopter', 'Boeing 727-2JOF', 'Ilyushin Il12', 'Vickers Valetta T-3', 'Embraer 110P1A Bandeirante', 'Yakovlev YAK-40 / Mil Mi-8', 'Macchi C-94', 'Sikorsky S 76', 'Hawker Siddeley HS-748-235 Srs. 2A', 'Bell 204B helicopter', 'Douglas C-47A-30', 'Boeing B-737-270C', 'Antonov 74TK-200', 'Boeing B-747-48EF', 'C-47(DC-3)', 'Bristol Britannia 102', 'IAI 1124 Westwind', 'Fairchild FC-2W', 'Boeing B-52 / Boeing B-52', 'Nord 262A-34', 'Grumman G-73 Mallard', 'British Aerospace BAe-125-700B', 'Ilyushin IL-76 / Mi-8 (helicopter)', 'Eurocopter AS 350B2', 'Swearingen SA-26TC Metro II', 'Lockheed Vega 5B', 'Sikorsky S-76C++', 'Antonov AN-124', 'Consolidated C-87', 'Cessna T207A', 'Beechcraft AT-11 Kansan', 'ATR-42-500', 'Yakovlev 40', 'Ilyushin P-14', 'CH-53D', 'Grumman G-21', 'Bristol Britannia 314', 'Noorduyn Norseman', 'Airbus A300B2-203', 'Cessna 421', 'Boeing B-727-2F2', 'McDonnell Douglas MD-88', 'Vickers 610 Viking 1B', 'McDonnell Douglas DC-8-63CF', 'Boeing B-727-21', 'Douglas DC-3-3A', 'Boeing 727-23F', 'Dornier 228', 'Consolidated B-24J', 'Consolidated B-24H', 'Sud Aviation SE-210 Caravelle 10R', 'Antonov An-10A', 'Douglas DC-6-54B', 'Fairchild F-27M', 'Lockheed 188C Electra', 'VEB 14P', 'MiG-15 UTI', 'Boeing 737-2J8C', 'Douglas C-54A-DO (DC-4)', 'de Havilland DHC-6-200', 'Boeing B-727-2H9A', 'BAC One-Eleven 516FP', 'Douglas C-54A-DC', 'Curtiss C-46A-60-CK', 'Sukhoi Superjet 100-95', 'GAF Nomad N-22C', 'McDonnell Douglas MD-11', 'Beech King Air 200 Catpass', 'Lioré-et-Olivier LeO H-13', 'Aero Commander 680F', 'Savoia Marchetti S-66', 'Lockheed 1049H Super Constellation', 'Antonov AN-24B', 'Boeing 737-8KN (WL)', 'Boeing 307 Stratoliner', 'Handley Page HP-42', 'Boeing 707-123', 'de Hav Can. DHC-6 Tw Otter 100/ Cessna', 'Northrop Delta', 'Short S.23 Empire Flying Boat', 'Hawker Siddeley HS-748-435 Srs. 2', 'Antonov 32', 'C-47 Dakota DT-941', 'Lockheed L-749 / Cessna 140', 'Lockheed C121J', 'Boeing B-737-3T5', 'Cant Z-506', 'Let L-410 UVPE-20', 'de Havilland DH-84 Dragon', 'Sirkorsky S-43 (flying boat)', 'Sikorsky S-43B (flying boat)', 'Antonov An-2R', 'Yakovlev YAK-42D', 'Antonov 12', 'Lockheed 14-H Super Electra', 'De Havilland DH-4', 'de Havilland Dash-2 float plane', 'Douglas DC-3-313A', 'Fokker F-X', 'Boeing B-737-3T0', 'de Havilland Canada DHC-4A', 'Shaanxi Y-8GX-3', 'Fairchild C119G / Fairchild C119G', 'Douglas DC-3D', 'Liore et Olivier 190', 'BAC One Eleven 204AF', 'Airspeed Oxford', 'Piper PA-31-350 Chieftain', 'McDonnell Douglas MD-82', 'Boeing 747-249F', 'Casa 352', 'Boeing B-737-497', 'Boeing B-737-2P6', 'Vickers Viscount 832', 'Bleriot 155', 'Antonov An-2 / Mil Mi-8T', 'McDonnell Douglas 369D', 'Boeing CH47A (helicopter)', 'de Havilland Canada DHC-8-301', 'Saab340B', 'Convair CV-340/440', 'Curtiss C-46C', 'Stinson Model A', 'Hughes 369D', 'Sud-Aviation Caravelle 3', 'Mi-8 helicopter', 'Beech E18S', 'Douglas DC-3 (C47-DL)', 'Consolidated Catalina', 'Fokker F-27 Friendship 300', 'CAMS 53', 'Boeing B-707-31', 'Boeing B-727-92C', 'de Havilland Canada DHC-3 Turbo Otter', 'Boeing B-707-331', 'Cessna 421 Golden Eagle', 'McDonnell Douglas DC-8-55F', 'Pilatus PC6CH2', 'Douglas DC-3 (C-53-DO)', 'Hawker Siddeley Trident 2E /  II-28', 'Convair CV-880-22M-3', 'de Havilland Canada DHC-6 Twin Otter 300', 'Britten-Norman BN-2 Islander', 'AEGK', 'Douglas C-47A', 'McDonnell Douglas DC-9-51', 'de Havilland DH-9C', 'Latecoere 32', 'Grumman G-21A seaplane', 'de Havilland Canada DHC-6 Twin Otter 310', 'Grummand EA-6B', 'Douglas DC-3 (C-47A-70-DL)', 'Sikorsky S-62A', 'Boeing B-707-328', 'Hawker Siddeley HS-748-353 Srs.2a', 'Lockheed 1329 Jetstar 8', 'Ilyushin Il-62M', 'Savoia Marchetti S55', 'Tupolev ANT-20 / I-5', 'Junkers Ju-52/3m', 'BAe Jetstream 3101-31', 'Fokker F-VII', 'North American P-51D-15-NA Mustang', 'Curtiss-Wright C-46D-CU', 'Boeing B-767-3Z9ER', 'Shorts 360-300', 'Burgess RV-6 experimental', 'Consolidated B-24', 'Britten-Norman Trislander', 'Embraer/Piper EMB-810C Seneca', 'Beech King Air F90', 'Boeing B-737-300', 'Vickers 815 Viscount', 'Boeing B307-1 Stratoliner', 'Piper PA-23-250 Aztec', 'Bell 206B helicopter', 'Douglas C-47A-50-DL', 'Loening C-W Air Yaht', 'Douglas DC-3A-178', 'Lockheed L-049 Constellation', 'Boeing Vertol CH47A (helicopter)', 'Short S-25 Sunderland 3 (flying boat)', 'Boeing B-757-200', 'Douglas DC-6B', 'Gates Learjet 35', 'Curtiss-Wright C46D-CU', 'Let Aero 45S', 'Britten-Norman BN-2A-21 Trislander', 'Learjet 25B', 'Farman F-40', 'Boeing B-737-4D7', 'Vickers Viscount 768D', 'Britten Norman BN-2A Trislander7', 'Lockheed 18-56 Lodestar', 'British Aerospace  BAe Jetstream 32EP', 'Cessna 500 Citation I', 'Vickers Viscount 701C', 'Boeing B-727-86', 'CASA 212-200 Aviocar', 'Airbus A-310-324', 'Lockheed L-100-20 Hercules', 'Sirkorsky 44A (flying boat)', 'Lockheed 5 Vega', 'CH-47D Chinook', 'Ilyushin IL-18A', 'Boeing 377 Stratocruiser 10-30', 'Fairchild C-119G', 'Hughes 369HS', 'Douglas DC-3F', 'Boeing B-727-247', 'Vickers Viking 1B & Soviet YAK-3 fighter', 'Cessna 310C', 'Boeing 707-373C', 'Beechcraft 1900C-1', 'Boeing 767-223ER', 'Grumman C-2A', 'British Aerospace 748 2A', 'Stinson Reliant SR-9', 'Antonov AN-2', 'Tupolev TU 154B-2', 'Lockheed Martin L-100-30 Hercules', 'Sikorsky S-43', 'Boeing B-727-22', 'BAC One-Eleven 525FT', 'Boeing B-757-225', 'Ford 5-AT-B Tri Motor', 'Piper PA-28-180', 'Fokker 100', 'Beechcraft C99', 'de Havilland DHC-3 Otter', 'Boeing B-29 Superfortress', 'De Havilland D-84', 'Convair CV-240-12', 'Boeing B-767-222', 'Swearingen SA227AT Merlin IVC', 'GAF Nomad N-22B', 'Antonov AN-12', 'Dewoitine D-333', 'Lockheed 1011-200 TriStar', 'Swearingen SA.227AC Metro', 'Lockheed Hercules KC-130R', 'Boeing B-707-320F', 'Embraer EMB-110C Bandeirante', 'Douglas DC-47', 'Handley Page HP-1 Hermes', 'Savoia-Marchetti SM83', 'Douglas C54E-DO (DC-4)', 'Tupolev TU-134A / Tupolev Tu-134A', 'Mil Mi-8MTV-1', 'Lockheed L-049-46-26 Constellation', 'Fairchild 71(amphibious)', 'Douglas C-54E', 'de Havilland Canada DHC-8-102', 'Hindustan Aeronautics 748-2', 'Lockheed 10 Electra', 'Boeing Vertol CH-47C (helicopter)', 'Junkers JU-52/3mge', 'Ilyushin 76MD', 'Boeing B-720-040B', 'NAMC YS-11A-300F', 'Fairchild R4Q-2', 'CASA 212-MP Aviocar 200', 'Boeing B-727-200 / DC9-32', 'HAL-748-224 Srs.2', 'Eurocopter EC 130B4', 'Douglas C-47DL', 'Swallow\\rSwallow', 'Arado V1', 'Gates Learjet 45', 'Boeing B-737-2T4', 'de havilland 89 Dragon Rapide', 'Dormier Do-J-Iif Bos Wal flying boat', 'Douglas C-47A-90-DL', 'Boeing B-727-2D3', 'Shorts 330-200', 'Antonov AN-24N', 'Travel Air B6000', 'Aerospatiale AS-350 B2 Ecureuil', 'Ilyushin Il-14P', 'Ilyushin 114T', 'Canadair CL-600-2B16-Challenger', 'Potez 29', 'Bell 205A-1 helicopter', 'Antonov AN-148-100', 'Fokker F-III', 'NAMC YS-11A-211', 'Farman F-300', 'Boeing B-757-222', 'Piper PA-24-250 Comanche', 'Nord 262C-66', 'Douglas DC-3', 'Rutan Long EZ (experimental aircraft)', 'Boeing B-707-121B', 'Fokker 50', 'Convair CV-340-58', 'Mil- Mi-17B-5', 'Mitsubishi MC-20', 'Boeing B-737-2A8 Advanced', 'Rockwell 500S Shrike Commander', 'de Havilland DH-86A', 'Pilatus PC-6/B2-H2 Turbo-Porter', 'Antonov An-10', 'Convair CV-340-68B', 'Beech Queen Air 65-A80', 'Cams 53', 'VC-Viking', 'Britten Norman BN-2A-20 Trislander', 'Boeing B-737-2A8', 'Lockheed 049 Consellation', 'de Havilland DH106 Comet 1A', 'Convair CV-440-0', 'De Havilland DH-85', 'de Havilland Canada DHC-6 Twin Otter 200', 'Curtiss C-46A-55', 'Bell UN-1N Huey', 'Boeing B-737-281', 'Douglas C-47-DL (DC-3)', 'Vickers Viscount 759D', 'Mil Mi-8 (helicopter)', 'Lockheed Vega', 'de Havilland Canada DHC-2 Beaver', 'Sikorsky CH-53C (helicopter)', 'Beechcraft C99 / Rockwell 112TC', 'Tupolev TU-134B-3', 'Fokker F-27 Friendship 200', 'Short  S-23 (flying boat)', 'Junkers JU52/3m', 'Fletcher FU-24-954', 'Lockheed L-382B Hercules', 'Douglas DC-3 (C-47)', 'Boeing 720-030B', 'Kalinin K-7', 'IAI Attava 201', 'Boeing 707-3J9C', 'Vickers Viscount 782D', 'Consolidated LB-30A Liberator', 'LET 410 M', 'Airbus A310-304', 'Fairchild C-119G / Fairchild C-119', 'Lockheed L-188A Electra', 'Shorts SC-7 Skyvan 3M Variant 100', 'Vickers Viscount 803', 'Swearingen 226TC Metro II', 'Pitcairns PA-6', 'Aero Commander 680', 'Ilyushin IL-62MK', 'Casa 212 Aviocar', 'de Havilland DCH-4T Caribou', 'Caproni Ca.48', 'Desoutter II', 'Tupolev TU-154B-2', 'Fairchild SA227-TT', 'Tupolev ANT-9', 'Shorts SC.7 Skyvan 3-100', 'Boeing B-727-225 Adv', 'Douglas DC-C-54A', 'Boeing B-727-81', 'McDonnell DC-9-32', 'Wibault 282T', 'Lockheed EC-121H', 'BAC One-Eleven  424EU', 'Boeing B-737-8EH /EMB-135JB', 'Airbus A300B4-622R', 'Bristol 170 Freighter 31M', 'Tupolev TU-154M / Sukhoi Su-24', 'de Havilland DH-9', 'Avro Ninteen I', 'Boeing 737-8HG', 'Lockheed KC-130F', 'Beech C-45H', 'Lockheed Hudson A16-97', 'Sikorsky CH-53D (helicopter)', 'Airbus A-300-605R', 'de Havilland DHC-6 Twin Otter', 'Bleriot Spad 56', 'ATR-72-202', 'Douglas DC-3 / Douglas DC-3', 'Boeing  377 Stratocruiser', 'Farman F-301', 'Bristol 170 Freighter 31 Mark II', 'Lockheed C-130HF', 'de Havilland DHC-6 Twin Otter 400', 'Airbus A.330-301', 'McDonnell Douglas DC-8-33', 'British Aerospace BAe-146-100', 'Rohrbach Roland', 'Cessna 402B', 'Antonov AN-26B', 'Learjet 24', 'Supermarine Stranraer (flying boat)', 'Rockwell CT-39A Sabreliner', 'British Aerospace BAe-146-300', 'McDonnell Douglas DC-8-63AF', 'Boeing 707-328C', 'Handley Page Dart Herald 202', 'Aero Commander  520', 'Airbus A-340', 'Let 410UVP', 'GAF Nomad N24A', 'Hawker-Siddeley DH-125-1A/522', 'Farman F.60 Goliath', 'de Havilland Comet 4', 'Boeing 707-321C', 'Lockheed Hercules C-130', 'De Havilland Dash-3', 'Stinson  SM-6000B', 'Cessna 207A', 'Sikorsky S-61N', 'Boeing B-727-214 / Cessna 172', 'Boeing B-757-223', 'Beech 65-A80 Queenaire', 'Eurocopter AS350D Astar', 'Boeing B-29', 'BAC One-Eleven 529FR', 'Antonov 10A', 'Douglas C-53D-DO', 'Casa 212-AB10 Aviocar', 'Boeing 707-336C', 'LET 410M turbojet', 'Airbus A300B4-203F', 'Bell UH-1B Huey Helicopter', 'Lockheed C-130 Hercule', 'Douglas DF-151', 'Antonov AN-124-100', 'Lockheed Hercules C.1', 'Douglas C-53-DO (DC-3A)', 'Douglas C-133A', 'Cessna 208A Caravan I Cargomaster', 'Lockheed 1049C Super Constellation', 'Antonov AN-22A', 'de Havilland DHC-6 Twim Otter 100', 'Latecoere 25', 'Ford Tri-motor 4', 'Hawker Siddeley HS-748-2A', 'Boeing KC-135A / Boeing KC-135A', 'Britten Norman BN-7A lslander', 'Curtiss C-46T', 'Potez IX', 'MD Douglas DC-9-32/Convair CV-990A', 'Douglas DC-3 (C-47-DL)', 'Farman F-60 Goliath', 'Hawker Siddeley HS 748-260', 'Antonov AN-9', 'Beech King Air B100', 'Mi-17', 'Boeing B-737-8GP', 'Hawker Siddeley HS-748-209', 'Stearman 4', 'Douglas DC-3C (C47A-DL)', 'Douglas DC-8', 'Junkers G-23', 'Boeing 737-2A1C', 'Vickers 639 Viking 1', 'ATR 72-201', 'Antonov AN-32', 'Curtiss-Wright C-46F-CU', 'McDonnell Douglas DC-8-21', 'Douglas DC-8-54F', 'Douglas C-54A-10-DC', 'Ilyushin IL-18E', 'Ford 5-AT Tri-Motor', 'Douglas C-47 (DC-3)', 'Douglas DC-3A-197D', 'Vickers 804 Viscount', 'Mil Mi-17', 'Britten-Norman BN-2A-26 Trislander', 'Canadair CP-107 MK-2', 'Shorts SC-7 Skyvan 3A-200', 'BAe 3101 Jetstream 31', 'Douglas C-47A-20-DL', 'Wibault 280', 'Boeing B-707-121', 'Embraer 110C Bandeirante', 'Fokker F-28 Fellowship 1000', 'Ilyushin IL-76M', 'Cessna 208B Caravan I Super Cargomaster', 'BAe HS-748-232 Srs 2A', 'Douglas DC-8-52', 'Britten Norman BN-2A Trislander Mk3', 'Lockheed 14 Super Electra', 'Canadair DC-4M-2 Northstar', 'Mc Donnell Dougals DC-9', 'McDonnell Douglas DC-8-61', 'Sikorsky S-61L helicopter', 'Blackburn Beverley C Mark 1', 'Cessna  208B Grand Caravan', 'Boeing C-135A', 'Antonov An-2TP', 'Sikorsky S-38B (flying boat)', 'Boeing B-747-2B5B', 'Bristol 170 Freighter 31', 'Dirigible ZR-1 Shenandoah (airship)', 'Douglas C-124C / Fairchild C-119C', 'Ilyushin IL-18B', 'Boeing B-707-131B / L1049C Constellation', 'CASA 235-10', 'MiG-23', 'Douglas DC-7', 'Dornier 228-212', 'Fokker F-VIIA', 'Bell 206L', 'Blackburn B-2', 'de Havilland Dove 1', 'Boeing RC-135E', 'Embraer C-95C Bandeirante', 'Lockheed C-130B Hercules', 'Cessna 404 Titan', 'Rockwell Sabreliner 65', 'Airbus A330-202', 'Dewoitine D-332', 'Ford Tri-Motor / Ford Tri-Motor', 'Boeing B-727-2L5 / MiG23UB', 'Learjet 25', 'Agusta A109A MK II', 'Douglas C-54G', 'Lockheed 14-H2 Super Electra', 'Britten-Norman BN-2A-27 Islander', 'British Aerospace BAE-146-200A', 'CASA 212-100', 'de Havilland Canada DHC-8-402Q Dash 8', 'Lockheed C130-B Hercules', 'Sikorsky S-76C', 'Beechcraft B300 King Air 350i', 'Savoia-Marchetti SM-95', 'Swear. SA-227CC Metro 23/Piper Navajo', 'Vickers 802 Viscount', 'De Havilland DH-84', 'Convair CV-580/De Hav. Twin Otter 100', 'Boeing B-727-46', 'Boeing B-737-T43', 'Aeromarine Model 85 (flying boat)', 'Embraer 110EJ Band./Embraer 110P Band.', 'Douglas C-124A Globemaster II', 'Bandeirante EMB-110P1', 'Douglas DC-9-15F', 'Antonov An-28', 'Douglas DC--3', 'Bristol 170 Freighter', 'de Havilland Dragon 1', 'de Havilland Canada DHC-7-103', 'Vickers Viscount 763', 'Boeing-Vertol Chinook', 'Tempest', 'Pilatus-Britten Norman BN-2B-26 Islander', 'Boeing 747-2B5F', 'Waco, model YLC', 'Curtiss C-46A-45-CU', 'Boeing B-707-328C', 'Fokker F-50', 'Vickers Valetta', 'Channel Air Bridge', 'McDonnell Douglas DC-10-30', 'Douglas DC-3 (C-47A-30-DK)', 'Let 410 UVP-E3', 'Tupolev TU-154B-1', 'Consolidated LB-30-A Liberator', 'Wright Flyer III', 'Fairchild C-123', 'Lockheed 18-08 Lodestar', 'Junkers F-13ge', 'Boeing B-737-200', 'Vickers 634 Viking', 'Vickers Viscount 827 / Fokker T-21', 'Boeing B-727-224', 'Consolidated  32 Liberator II', 'Douglas DST-A-207A', 'Britten Norman BN-2B Trislander', 'Avro 691 Lancastrian 3', 'Douglas C-124A-DL', 'Boeing B-377 Stratofreighter', 'Avro Shackleton MR-1', 'de Havilland DH-66 Hercules', 'Fairchild FC-2', 'Dassault Falcon 20', 'Douglas C-118A Liftmaster', 'McDonnell Douglas MD-11F', 'Fairchild F-27', 'Avro  685 York I', 'Bombardier CRJ200', 'Boeing 737-524', 'Learjet 24D', 'CASA 212 Aviocar 300', 'Fairchild F-27 / Cessna 310', 'Boeing 737-2B7', 'Bell 206B3', 'Boeing 737-286', 'Mc Donnell Douglas 369FF Rotocraft', 'Antonov AN-24 / Yakovlev Yak-40', 'Boeing 737-MAX 8', 'Douglas C-47A-DK', 'Boeing 737-2D6C', 'McDonnell Douglas DC-9-14', 'Let L-410UVP', 'Consolidated PBY-5 Catalina', 'Douglas C54A', 'GAF Nomad N-22', 'LET  410M Turbojet', 'Sud Aviation Caravelle 1', 'Boeing B-737-204C', 'Douglas DC-3 / Cessna 170B', 'Boeing 707-373', 'Aerospatiale Nord 262A-33', 'Curtiss-Wright C-46', 'Volpar C45G', 'McDonnell Douglas DC-9-33RC', 'FIAT G-212CP', 'Aerospatiale Caravelle 10B3', 'Beechcraft SKA 200', 'Tupolev TU-114B', 'NAMC YS-11A-500', 'Douglas DC-3 (C-47A-DL)', 'Short Empire flying boat', 'McDonnell Douglas DC-8 Super 62', 'Spartan Cruiser', 'Douglas C-47-DK', 'de Havilland Canada CV-2B Caribou', 'Antonv An-28', 'Boeing 737-2M2', 'Douglas C-47B-25-DK', 'Douglas C-54B-10-DO', 'Ilyushin IL-18', 'Antonov AN-12V', 'Cessna 207', 'Douglas C-46A-CU ( DC-3)', 'de Havilland Canada DHC-4 Caribou', 'Lockheed Orion', 'Boeing 737-8BK', 'Vickers Valetta C-1', 'CASA NC-212 Aviocar 200', 'Douglas EC-54U', 'Mil Mi-17 (helicopter)', 'Curtiss C-46A', 'Douglas C-124A Globemaster', 'Boeing C-135B', 'Boeing B-737-204', 'Ilyushin II-14', 'Boeing 307 Stratoliner B-1', 'Boeing B-247-D', 'Embraer EMB-120ER', 'McDonnell Douglas DC-9-33CF', 'Boeing 95', 'Aerospatiale 350B1', 'Short Solent 3 (flying boat)', 'Avro 685 York', 'Ilyushin IL-76TD', 'Douglas DC-3 (Douglas C-47A-10-DK)', 'Douglas DC-7 / Lockheed S Constellation', 'Beechcraft C-45H', 'Lockheed C-141A', 'McDonnel F-4E Phantom II', 'Hawker Siddeley HS-125-403B', 'CASA CN-235M-10', 'Beechcraft Super King Air 200', 'Shorts 360-100', 'Avia 14T', 'Britten-Norman BN-2A-21 Islander', 'Curtiss C-46D-20-CU', 'Lear Jet 24A', 'Boeing B-727-230', 'Transportes Aéreos Orientales', 'Avro 688 Super Trader', 'Handley Page Jetstream 1', 'Lockheed L-100-30 Hercules', 'Britten-Norman BN2 Islander', 'Bell 296B', 'Aérospatiale SE-210 Caravelle', 'Savoia-Marchetti SM-83', 'Lisunov Li-2', 'Lioré-et-Olivier H-242', 'Fairchild C-123 Provider', 'Douglas DC6B', 'Boeing B-727-264', 'Dornier 228-201', 'Short S-17 Kent', 'Aviation Traders ATL-98 Carvair', 'Ilyushin II-14P', 'Douglas DC-7-C', 'Short 360', 'de Havilland Comet 4C', 'Vickers 604 Viking 1B', 'Bell 412 (helicopter)', 'Focke-Wulf FW 200', 'KJ-2000', 'Boeing B-737-8AL', 'Nord 262A-44', 'Lockheed Vega 2', 'Latecoere 631 (flying boat)', 'CASA  CN-235-200', 'Boeing B-737-401', 'Fairchild C-123C', 'McDonnell Douglas DC-8-53', 'Boeing B-737-73V', 'MD-87 / Cessna 525A Citation II', 'Bell 206B JetRanger', 'Airbus A310-324', 'Vickers Viscount 749', 'Aerospatiale AS350BA', 'Douglas DC-3 (C-47A-90-DL)', 'Convair CV-240-53', 'Airbus A.300B4-203', 'Aero Commander 680E', 'de Havilland DH-104 / Piper PA-28', 'Boeing B-707-323 / Cessna 150', 'Aerospatiale AS350', 'Boeing B-737-2F9', 'Blériot Spad 46', 'Antonov AN-24RV / Soviet Air Force TU-16', 'Douglas C-54D', 'Cessna 208 Caravan I', 'Eurocopter AS 332L2 Super Puma 2', 'Embraer C-95 Bandeirante', 'Douglas C-47A-25', 'Boeing 737-8F2', 'Beech Queen Air A80', 'Britten-Norman BN-2A-8 Islander', 'North American CT-39A Sabreline', 'Dewoitine D-342', 'Macchi C.100', 'Farman F-306', 'Ilyushin IL- 76TD', 'Bell 212', 'Aerospatiale AS350 Eurocopter  helicoper', 'Britten-Norman BN-2A-20 Islander', 'Douglas R5D-3', 'Grummand Gulfstream III', 'de Havilland DH.104 Dove', 'Tupolev TU-154B', 'Douglas DC-3-227B', 'Boeing B-737-222', 'Douglas C-47B-5-DK', 'Douglas C-47A-15-DK', 'Convair CV-880-22-1', 'Boeing B-727-100', 'BAC One-Eleven 515FB', 'Vickers 708 Viscount', 'Boeing 377 Stratocruiser 10-26', 'Lockheed L- 749A Constellation', 'de Havilland DHA-3 Drover II', 'Boeing B-707-124', 'Sabca S-73', 'Sud-Aviation Caravelle VI-R', 'Dornier 328-110', 'Antonov AN-24V', 'Boeing EC-135N', 'CASA CN-235-100', 'Pilatus Britten-Norman BN-2B-27 Islander', 'Eurocopter AS-350-BA', 'Hawker Siddeley HS-748-234 Srs. 2A', 'de Havilland DH-86', 'AAC-1 Toucan', 'Saab Scandia 90A-1', 'BAe 146-200', 'Piaggio PD-808', 'Fokker F-27 Friendship 400', 'Antonov An-26-100', 'Short Stirling IV', 'Lockheed EC-130E Hercules', 'Cessna 550 Citation II', 'Consolidated Liberator', 'British Aerospace BAe-146-200A', 'Boeing 707-323C', 'Dirigible', 'Embraer ERJ-190-100LR', 'Lockheed HC-130H Hercules', 'Lockheed L-1011', 'Boeing B-727-286', 'Aerospatiale AS 350B2 Ecureuil', 'Fokker Universal', 'Beechcraft 99A', 'PZL-Mielec M28', 'Savoia-Marchetti SM.75', 'Antonov An-12AP', 'Ilyushin Il-20M', 'Ilushin Il-76TD', 'Vickers 615 Viking 1B', 'de Havilland Canada C-7A Caribou', 'Boeing B-29 / Boeing B-29', 'Avia 14-40', 'British Aerospace 146-300', 'M28 Skytruck', 'Transall C-160', 'de Havilland Canada DHC-4A Caribou', 'Ford 5-AT-C Tri-Motor', 'Let 410UVP-E4', 'BAC One-Eleven 402AP', 'Boeing B-767-260ER', 'Budd RB-1 Conestoga', 'Ilyushin IL-18D', 'Convair CV-240-7', 'Tupolev ANT-6', 'Convair CV- 640', 'Tupolev TU-144', 'Fokker F-VIII', 'McDonnell Douglas C-17A Globemaster III', 'de Havilland DH114 Heron 2E', 'Vickers Viscount 745D / T-33A', 'Boeing B-737-5L9', 'Eurocopter  AS332L2 Super Puma', 'Lockheed C-28', 'Beechcraft C35', 'Lockheed 1649A Starliner', 'Douglas DC-2-115A', 'CASA C-295M', 'Vickers Viscount 701', 'Douglas C-47B-DK', 'Saab 340B', 'Boeing B-747-428BCF', 'Avro RJ-85', 'Curtiss C-47', 'Beechcraft 18H', 'Douglas DC-2-115L', 'Douglas C-54-DO (DC-4)', 'BAC One-Eleven 203AE', 'Boeing B-747-300', 'Eurocopter Deutschland BK117C1', 'Boeing B52 Stratofortress/Boeing KC 135A', 'Convair CV-440', 'Ilyushin 14P', 'Boeing B-707-3D3C', 'Beechcraft 100 King Air', 'Lockheed 18-56 Loadstar', 'Swearingen SA-227BC Metro III', 'Douglas DC-4A', 'Douglas C-39-DO  (DC-2)', 'Boeing B-17G', 'Handley Page HP-81 Hermes IV', 'Boeing B-737-2H6', 'Consolidated OA-10 Catalina', 'CASA C-212 Aviocar 300DF', 'LET 410UVP-E', 'BAC One-Eleven 200AB', 'Boeing XB-29', 'Douglas MC-54M', 'Latécoère 23 (flying boat)', 'Antonov AN-26A', 'BAe Avro RJ-100', 'Britten-Norman BN-2A-8 Trislander', 'Boeing 707-329C', 'R4D-5', 'Avro 688 Tudor I', 'Eurocopter AS350B3\\xa0Ecureuil', 'Aerospatiale Caravelle 6R', 'Shaanxi Yunshuji Y-8/Yunshuji Y-8', 'Ilyushin II-76TD', 'Airbus A300B2-1C', 'Vickers 621 Viking 1', 'Embraer 110P1 Bandeirante', 'Piper PA-31', 'Curtiss C-46A-50-CU', 'Boeing B-737-244', 'Junkers JU.52', 'Boeing B-737-300 / Swearingen SA-227AC', 'Boeing KC-135E', 'Lockheed L-1649A Starliner', 'Hawker Siddeley HS-125', 'Fairchild Hiller FH1100', 'Vickers Viscount 816', 'Sikorsky S-42 (flying boat)', 'Zeppelin L-31 (airship)', 'Boeing B-737-2C3', 'McDonnell Douglas MD-90-30', 'McDonnell Douglas DC-10-10', 'Boeing B-737-230A', 'Boeing KC-135', 'Ilyushin IL-38 / Ilyushin IL-38', 'de Havilland DH-114 Heron 1B', 'Boeing 757-204', 'Embraer-110 C-95B Bandeirante', 'Mitsubishi MU 2B 35', 'de Havilland Canada DH-3T Otter', 'ATR 72-600', 'Lockheed 14-WF62 Super Electra', 'Curtiss C-46 Commando', 'Lockheed Hudson IIIA', 'NAMC-YS-11-111', 'Antonov 12BK', 'Ford Tri-motor F-VIII', 'Douglas DC-2-221', 'Lockheed 749C-79-12 Constellation', 'Boeing 727-21', 'Fairchild C-199G', 'Boeing B-747-168B / Ilyushin IL-76TD', 'Douglas C-53', 'de Havilland DHC-2 Mk 1 Beaver', 'Yunshuji Y-12', 'Latecoere 28', 'Lockheed C-130K Hercules', 'MD DC-8-11 / Lockheed  1049 S Const', 'Boeing 777-2H6ER', 'Curtiss C-46D-5-CU', 'Douglas C-47B-15-DK', 'Douglas C-47A-5-DK', 'Vickers Viking 1B', 'Antonov AN-140-100', 'Boeing B-737-31B', 'Sikorsky S-76', 'Boeing 747-412F', 'Boeing B-747-SR46', 'Convair CV-990-30A-5', 'Convair CV-580F', 'Learjet 23', 'Pilatus-Britten Norman BN-2A-27 Islander', 'Sud Aviation SE-210 Caravelle', 'Douglas C-47 Dakota', 'Fokker F-27 Friendship 500', 'Vickers Viscount 818', 'Let 410', 'Cessna 208 Caravan', 'Boeing B-727-23', 'Dornier Merkur', 'Sud-Aviation Caravelle 10-R', 'Vickers Viking 3B', 'Douglas DC-3C', 'Junkers F-13', 'Boeing B-727-64', 'Breguet 14', 'Antonov AN-26', 'Embraer EMB-110 Bandeirante', 'Curtiss C-46D-15-CU', 'Douglas C-47A-30-DK (DC-3C)', 'Latecoere 631 (sea plane)', 'GAF Nomad 22B', 'Boeing 737-809', 'Pilatus PC-12/47', 'Vickers 837 Viscount', 'Hawker Siddeley HS-748-372', 'Fokker (KLM)  F.III', 'Britten-Norman BN-2A-21', 'Mi 8', 'Lockheed 10A Electra', 'Ford 5', 'CASA 212', 'Boeing B-727-281 / Air Force F86F', 'Douglas C-47-DL', 'Sikorsky S-38BB', 'Sikorsky S-58ET', 'Lockheed 188A Electra', 'Liore-et-Olivier 213', 'Curtiss Wright C-46', 'Cessna 441 Conquest', 'McDonnell Douglas DC-8-71F', 'Sikorsky UH-60L Black Hawk', 'Messerschmitt M-20', 'Embraer EMB-110P1 Bandeirant', 'Ilyushin 76-TD', 'Aerospatiale SA365N-1 Dauphin II', 'Pilatus Britten Norman BN-2A-27 Islander', 'Swearingen SA-226TC / Mooney M-20C', 'Boeing KC-135A', 'Douglas C124-DL Globemaster II', 'Aerospatiale ATR-42-300', 'Junkers JU-5/-3m', 'Consolidated Canso (amphibian)', 'Ford 4-AT-B Tri Motor', 'Boeing Vertol CH-47C', 'Lockheed 749-79-33 Constellation', 'Vickers Viscount 828', 'Convair CV-340', 'Lockheed Orion 9E Explorer float plane', 'Lockheed C-60 Lodestar', 'Fairchild C-119G / Fairchild C-119G', 'Beechcraft E18S', 'Convair CV-880-22M-21', 'Handley Page HP-16', 'Xian Yunshuji Y-7-100C', 'Douglas DC-4  (C-54-10-DO)', 'Tupolev TU-134', 'Yakovlev 42D', 'Boeing B-747-SP-09', 'Antonov 32B', 'General Aviation GA-43', 'Boeing B-737-7H4', 'Tupolev TU-154A', 'Boeing Vetrol 107 II helicopter', 'Aerospatiale AS350BA Rotocraft', 'PAC 750XL', 'Britten-Norman BN-2B-26 Islander', 'North American B-25D bomber', 'Pilgrim 100B', 'de Havilland DHC-5 Buffalo', 'Handley Page Dart Herald 201', 'de Havilland DH106 Comet 1', 'Douglas C-47A-35-DL', 'Vickers Vanguard 952', 'CASA 212-DE Aviocar 200', 'Hawker Siddeley Trident 2E', 'Lockheed 1049C-55-81 S Constellation', 'Mil Mi-8T', 'Hawker Siddeley Trident 1C', 'Bell 206L-4', 'Lockheed C-130H', 'ATR 42-320', 'Lockheed 10C Electra', 'Consolidated LB-40-A Liberator', 'de Havilland Canada DHC 3T Turbine Otter', 'Britten-Norman BN-2B-27 Islander', 'Douglas DC-6 / RAF York', 'Beechcraft Bonanza F35', 'Fokker F-12', 'Dassault Falcon 20C', 'Boeing B-727-22 / Cessna 310', 'Harbin Yunshuji Y-12 II', 'AT L98 Carvair', 'Hawker Siddeley HS-748', 'Britten Norman BN-2A-26 Trislander', 'Boeing 777-31H', 'Vickers Viscount 785D', 'McDonnell Douglas DC-8 Super 61', 'Hawker Siddeley HS-748-234', 'Boeing 757-N23', 'Boeing B-747-131', 'Canadair CRJ-100ER', 'Douglas C- C47A-30DK', 'Armstrong Whitworth Argosy II', 'Fairchild C-82A', 'Lasco Lascowl', 'Curtiss-Wright R5C-1', 'De Havilland Dove', 'AirbusA310-304', 'ATR 72-212', 'Fokker F7', 'Consolidated  PBY-5A Catalina', 'Lockheed 9 Orion', 'Mi-35', 'Fokker F-28 Fellowship 4000', 'Mi-8', 'Sud-Aviation  Caravelle VI-N', 'Antonov AN-12 (freighter)', 'Boeing RC-135T', 'Britten-Norman BN-2A-26 Islander', 'Swearingen SA-226T Metro II', 'McDonnell Douglas DC-8-12', 'Koolhoven FK.43', 'BAC Super VC-10 1154', 'Piper PA-42 Cheyenne', 'Tupolev Tu-134', 'Saab Scandia / Cessna 310', 'Vickers Viscount 837', 'Let 410 UVP-E10A', 'Bell 222', 'Tupolev 154B-2', 'F-86 Sabrejet', 'Bell 205 A-1 helicopter', 'Short Sandringham 2 (flying boat)', 'Douglas C-54A-1-DO', 'Fokker F-27 Friendship 100', 'Lockheed C-130H-30 Hercules', 'McDonnell Douglas DC-9-31 / F4-B', 'Antonov An-32B', 'Curtiss seaplane', 'De Havilland DH-4\\rDe Havilland DH-4', 'Curtiss-Wright C-46A-CK', 'de Havilland DHC-6 Twin Otter 300', 'Airspeed AS.57 Ambassador 2', 'Junkers JU86 Z-2', 'Douglas C-124C', 'McDonnell Douglas DC-8F-54F', 'Lockheed 1049G Super Constellation', 'de Havilland DH-89A Dragon Rapide', 'Beech BE-70', 'Avro 691 Lancastrian (flying boat)', 'Vickers Viscount 812', 'Black Hawk helicopter', 'Douglas DC-3 (C-47-A5-DL)', 'Boeing B-707-326C', 'Junkers JU90V2', 'Wapiti', 'Stinson SM6000B Tri-motor', 'Latecoere 301 (flying boat)', 'Lockheed L-188CF Electra', 'Boeing B-737-505', 'Douglas C-118A / Lockheed P2V-5F', 'Stinson SM 6000B', 'Douglas DC-3A', 'Junkers JU-86', 'Saab Scandia', 'Beechcraft 35-B33 Debonair', 'Antonov An26SH', 'Fokker F-28 Fellowship 3000', 'Antonov AN-28', 'Boeing 377-10-26 Stratocruiser', 'Boeing 727-286', 'Douglas DC-3 / Piper PA-18A', 'Ford 4', 'Curtiss Condor 18', 'Vickers Vanguard 951', 'Boeing B-727-121C', 'Lockheed L-18-56 Lodestar', 'Beechcraft 1900D / Cessna 177', 'Boeing B-727', 'Boeing B-737-297', 'Short Sandringham (flying boat)', 'Swearingen SA-226AT Merlin IV', 'Avro 685 York 1', 'Antonov An-124', 'Antonov AN-32B', 'Lockheed L-1011-1 TriStar', 'Short SC-7 Skyvan Variant', 'BAC One-Eleven 524FF', 'Vickers 798D Viscount', 'Lockheed 188C  Electra', 'Lockheed L188A Electra', 'Ilyushin IL-62', 'Antonov 24', 'Fairchild-Hiller FH-227D/LCD', 'Dassault Falcon 50', 'Antonov AN-32A', 'De Havilland Canada DHC-6-300 Twin Otter', 'Let 410UVP Turolet', 'Fokker F-10', 'Fairchild F-27B', 'Douglas DC 3-A-SB-3-G-14', 'Bristol 170 Freighter I', 'Hawker Hunter', 'Vickers 757 Viscount', 'Boeing B-707-309C', 'Antonov An-26', 'Lockheed  5 Vega', 'Dassault Falcon 900B', 'Douglas DC-2-115E', 'Boeing B-727-193', 'Boeing B-707-345C', 'Goodyear-Zeppelin U.S.S. Macon (airship)', 'de Havilland Canada DHC-5 Buffalo', 'Handley Page O/10', 'Swearingen SA227AC Metro III', 'Aerospatiale Caravelle 10R', 'Airspeed Ambassador AS-57', 'Douglas M-3', 'Piper PA-31-350 Navajo', 'Lockheed HC-130P Hercules', 'Junkers W-34', 'Douglas DC-3C (C-47A-DK)', 'Convair 580-11A', 'Lockheed C130B', 'Tupolev TU-204-100V', 'Piper Aerostar 601 / Bell 412SP', 'Vickers Viscount 710C', 'Lockheed Orion 9D', 'de Havilland DH-18 / Farman F-60 Goliath', 'Boeing B-737-2K9', 'Avro Lancaster', 'Northrop F-5A', 'Fairchild C-82', 'Avro 685 York I', 'Tupolev Tu-154M', 'Boeing 707-351C', 'Latecoere 26', 'Canadair CL-44J', 'Gates Learjet 23', 'Curtiss C-46E-1-CS', 'Lockheed P-3B Orion', 'Avro 688', 'Douglas C-54A-1-DO Skymaster', 'Lockheed 749A Constellation', 'Hadley Page 137Jetstream I / Cessna 206', 'Cessna 208B Caravan I', 'Vickers Viscount 755D', 'Douglas C-47A-30-DK', 'Antonov AN-10', 'Avia 14', 'Pilatus PC-6 Turbo Porter', 'Blériot Spad 66', 'Bell 407', 'Consolidated PBY-5A Catalina', 'Boeing - EC-135N', 'Learjet 55', 'Mil Mi-26', 'Ford 5-AT-D', 'Tupolev 134A-3', 'Fairchild F-27A', 'Douglas DC-3-201E', 'Mi-17 Helicopter', 'de Havilland DHC-3T Vazar TurbineOtter', 'BAC One-Eleven 420EL', 'De Havilland DH-60 Moth', 'Grumman G-73T Turbo Mallard', 'Douglas C-47A-90 (DC-3)', 'Douglas R5D2', 'Martin PBM Mariner', 'Boeing 707-331C', 'Fokker Super Universal', 'Boeing B-737-209', 'Boeing B-314 (flying boat)', 'Vickers Viscount 781D', 'Lockheed C-56B Lodestar', 'Douglas C-54B', 'Cessna 208B Grand Caravan', 'Bloch 220', 'McDonnell Douglas DC-8-54F37', 'Boeing C-97', 'Vickers 616 Viking 1B', 'Douglas DC-4', 'Boeing B-727-228', 'Vickers Viscount 804', 'Shorts 300-200', 'de Havilland DH-114 Heron 2D', 'McDonnell Douglas DC-9-30', 'Douglas C-54', 'B-17C Flying Fortress', 'Boeing B-707-436', 'Boeing B-777-28EER', 'Lockheed Orion 9', 'Fairchild Hiller FH-227B', 'de Havilland DH-106 Comet 4', 'Farman 190', 'Antonov An-14', 'Embraer 110 P1 Bandeirante', 'Aero Commander AC 520', 'Avro 685 York C-1', 'Convair CV-340-62', 'Douglas DC-2-115B', 'Bristol 170 Freighter 21', 'Embraer 820C Navajo', 'Douglas C-54B-15-DO', 'Cessna  501 Citation', 'Both Eurocopter AS350B3', 'Lockheed 749A-79-33 Constellation', 'Bell 205-1', 'British Aerospace Jetstream BA-3100', 'Lockheed 749A-79-32 Constellation', 'NAMC YS-11A-202', 'Vickers Viscount 764D', 'Britten Norman BN Islander', 'De Havilland DH-86', 'Martin M-130 (flying boat)', 'Antonov An-12PL', 'Yakovlev Yak-40', 'Dassault-Breguet Atlantique', 'Antonov An-2T', 'Boeing 737-53A', 'Ilysushin Il-76TD', 'De Havilland DH-80', 'de Havilland Canada DHC-4T Caribou', 'Cessna 172H', 'Consolidated B24H', 'Antonov AN-140', 'Convair CV-440F', 'Beechcraft 1900C', 'Douglas C-47', 'Boeing B-707-3J9C', 'Fokker (KLM) F.III', 'Cessna 404 Titan Courier II', 'Douglas DC3-G102', 'Curtiss C-46A-40-CU', 'Swearingen SA277-AT Expditer', 'Fokker F-XXII', 'Douglas DC-3-201C /  Army A-26', 'Li-2', 'Curtis C-46', 'Shorts SC-7 Skyvan 3-100', 'SPCA Meteore 63', 'de Havilland 104-6A', 'Douglas C-47A-10-DK', 'Vickers Viscount 724', 'Shorts SC-7 Skyvan 3-200', 'Boeing B-727-95', 'Boeing B-737-275', 'Vickers 720 Viscount', 'Douglas C-54G (DC-4)', 'Stearman M-2 Speedmail', 'Dewoitine D-338', 'Fairchild C-123K', 'CASA 212-S1 Aviocar 100', 'PA-34-200 Seneca I', 'Curtiss C-46', 'Canadair CL-44D4-1', 'Ilyushin Il-76MD', 'Lockheed MC-130E-Y', 'ATR-42-300', 'CASA 212 Aviocar', 'Swearingen SA227-AC', 'Britten Norman BN-2A-27 Islander', 'Swearingen SA-226TC Metroliner II', 'Britten-Norman BN-2A-3 Islander', 'Mi-6', 'Vickers Viscount 764 D', 'Lockheed L-1011-100', 'Boeing B-737-219', 'Douglas C-47A-25-DK', 'de Havilland Canada DHC-6-300 Twin Otter', 'Cessna 208B Grand Carivan', 'Savoia Marchetti SM-95', 'Stearman C-38', 'Martin Mariner', 'Avro 688 Tudor 4B', 'Convair CV-240-0', 'Sikorsky CH-53A (helicopter)', 'Tupolev TU-124', 'Douglas DC-9-31 /Cessna 206', 'CASA 212 Aviocar 100', 'Gates Learjet 25B', 'Lockheed KC-130T Hercules', 'Douglas DC-3 (C-53D-DO)', 'Tupolev TU-104A', 'Tupolev TU-154M / Boeing B-757-23APF', 'Fokker F27 Friendship 100', 'Royal Airship Works ZR-2 (airship)', 'Bell 407 / Bell 407', 'Handley Page Halifax C-8', 'Hawker Siddeley HS-748-1', 'Vultee V-1', 'Bell 412', 'Zeppelin L-8 (airship)', 'Hindustan Aeronautics 748 2-224', 'Douglas DC-3 (C-47DL) /Vultee BT-13', 'Fokker F-27 Friendship 600', 'Boeing 314A', 'Boeing 247', 'Fairchild Pilgrim 100A', 'Curtiss JN-4H', 'Stearman C-3MB', 'Britten-Norman  BN-2A-20 Trislander', 'Lockheed C-130A', 'Cams 53-1', 'Ilyushin IL-14M / Antonov An-12BP', 'Lockheed 10E Electra', 'CAMS 56', 'Lockheed L-049-46 Constellation', 'Douglas C-54P', 'Junkers JU-38', 'Douglas R6D-1 (C-118B)', 'Embraer ERJ-190AR', 'Sabca F-VII', 'Boeing B-727-212A', 'Aerospatiale AS350D', 'Boeing B-727-251 / MD Douglas DC-9-14', 'Aerospatiale Caravelle 3', 'Boeing 247D', 'Boeing B-707-349C', 'NAMC YS-11A-227', 'Airspeed AS-65 Consul', 'Kubicek BB85Z Hot Air Balloon', 'Boeing B-747-131F', 'Fokker F-VIIB', 'Embraer 120RT- Brasilia', 'British Aerospace Nimrod MR-2P', 'Lockheed 10B Electra', 'Swearingen SA-226TC Metro II', 'IAI 1124A Westwind II', 'Lockheed 18-56 LodeStar', 'Douglas DC-4 / USAF F-4E', 'Bell 47J-2', 'Lockheed 1049E-55 Super Constellation', 'Latécoère 300 (float plane.', 'Boeing - 377-10-29 Stratocruiser', 'Ilyushin IL-18L', 'Lockheed 049 Constellation', 'Piper Navajo PA-31/ Piper Seminole PA-44', 'Airbus A320-232', 'Domier Delphin III (flying boat)', 'Ford Tri-Motor 5', 'Swearingen SA.227AT Merlin IVC', 'Boeing 777-200', 'Boeing B-737-230', 'Lockheed 749 Constellation', 'Curtiss Carrier Pigeon', 'Dornier 228-202', 'Handley Page W-10', 'Junkers Ju-52', 'Lockheed EC-121M', 'Boeing B-707 (E-3B)', 'Pacific Aerospace', 'Dornier Do-228-101', 'McDonnell Douglas DC-8F-55', 'Sikorsky S61L', 'Pilatus PC-12/45', 'de Havilland Canada DHC-2 Mark I Beaver', 'McDonnell Douglas DC-8-Super 63CF', 'de Havilland 110', 'Pilatus Britten-Norman BN-2A-21 Islander', 'Travel Air A6000A', 'Sud-Aviation Caravelle III', 'Boeing 377 Stratocruiser 10-34', 'MH-47 Chinook helicopter', 'Dornier Do-288-201', 'Cessna 335', 'Junkers JU-160', 'Boeing B-727-282', 'Beech D18S', 'Fokker F-27 Friendship 500F', 'Vickers 620 Viking 1', 'Sepecat Jaguar A', 'Douglas DC-4 (C-54-DO)', 'Boeing B-727-256', 'Douglas C-54E-DO (DC-4)', 'Vickers Viscount 745D', 'Cessna 208 Grand Caravan', 'Airbus A-320-216', 'Sikorsky S-38 Flying Boat', 'Urocopter AS350 B2', 'Boeing 737 Max 8', 'PBY Catalina', 'Bell 206L-3', 'Lockheed Hercules MC-130H', 'DC3(C47)', 'Boeing B-747-283B', 'Boeing B-707-340C', 'Lockheed C-130A-II Hercules', 'Sikorsky S-92A', 'Britten Norman BN-2A Trislander', 'B17G Flying Fortress', 'Boeing B-737-241', 'Curtis C-46A-20-CU', 'Aerospatiale Alenia ATR-42-312', 'HESA Iran-140-100', 'Piper PA-32', 'Shaanxi Y-8D', 'UH-60 Black Hawk / UH-60 Black Hawk', 'Britten-Norman 2B-21 Islander', 'Short S-23 (flying boat)', 'Airbus A300-622R', 'Heinkel He-111V2', 'Piper PA31-310', 'ATR-72-50', 'Douglas DC-4-1009', 'de Havilland Can. DHC-6 -300/ Bell 206B', 'Embraer EMB-120 Brasilia', 'General 102-E', 'Boeing B-29MR', 'De Havilland DH.80', 'Canadair CL-44D4-2', 'Canadair CRJ-200', 'McDonnell Douglas DC-8 Super 63PF', 'Lockheed P-3A', 'Tupolev Tu-104B', 'Swearingen SA227-AC Metro II', 'Britten Norman BN-2A-3 Islander', 'Antonov 26B', 'Boeing B-707-321C', 'Curtiss Condor T-32', 'de Havilland Comet 4B', 'Consolidated B-24 / Consolidated B-24', 'Douglas R4D-6', 'Douglas DC-3-DST', 'Aerospeciale AS-350D', 'De Havilland DH.4', 'ATR-72-212A', 'Handley Page Dart Herald 207', 'Boeing B-747-121', 'British Aerospace Jetstream 3201', 'Douglas DC-3 (C-47DL)', 'Canadair CL-44D4-6', 'Bristol 170 Freighter XI', 'Antonov An-24RV', 'Socata TB1-10 Tobago', 'Fokker F-VIIb-3M', 'Sikorsky S-58C helicopter', 'Ilyushin IL-14P', 'de Havilland DH-50A', 'Dornier 228-101', 'Lockheed L-100 Hercules', 'Boeing B-707-323C']\n"
     ]
    }
   ],
   "source": [
    "unique_list = list(set(ac_type_list))\n",
    "\n",
    "print(unique_list)"
   ]
  },
  {
   "cell_type": "code",
   "execution_count": 101,
   "metadata": {},
   "outputs": [
    {
     "data": {
      "text/plain": [
       "'\\nconverted_list = []\\nfor aircraft_model_name in unique_list:\\n    wikipedia_category_name = convert_aircraft_model_name_to_wikipedia_category_name(aircraft_model_name)\\n    if wikipedia_category_name:\\n        converted_list.append(wikipedia_category_name)\\n\\nprint(converted_list)\\n'"
      ]
     },
     "execution_count": 101,
     "metadata": {},
     "output_type": "execute_result"
    }
   ],
   "source": [
    "'''\n",
    "converted_list = []\n",
    "for aircraft_model_name in unique_list:\n",
    "    wikipedia_category_name = convert_aircraft_model_name_to_wikipedia_category_name(aircraft_model_name)\n",
    "    if wikipedia_category_name:\n",
    "        converted_list.append(wikipedia_category_name)\n",
    "\n",
    "print(converted_list)\n",
    "'''"
   ]
  },
  {
   "cell_type": "code",
   "execution_count": 102,
   "metadata": {},
   "outputs": [
    {
     "data": {
      "text/plain": [
       "\" \\n# Open a text file for writing\\nwith open('ac_type.txt', 'w') as file:\\n    for value in df_drop_col['ac_type']:\\n        file.write(str(value) + '\\n')\\n\""
      ]
     },
     "execution_count": 102,
     "metadata": {},
     "output_type": "execute_result"
    }
   ],
   "source": [
    "''' \n",
    "# Open a text file for writing\n",
    "with open('ac_type.txt', 'w') as file:\n",
    "    for value in df_drop_col['ac_type']:\n",
    "        file.write(str(value) + '\\n')\n",
    "'''"
   ]
  },
  {
   "cell_type": "code",
   "execution_count": 103,
   "metadata": {},
   "outputs": [
    {
     "data": {
      "text/plain": [
       "'\\npip install wikipedia-api\\nimport wikipediaapi\\n'"
      ]
     },
     "execution_count": 103,
     "metadata": {},
     "output_type": "execute_result"
    }
   ],
   "source": [
    "'''\n",
    "pip install wikipedia-api\n",
    "import wikipediaapi\n",
    "'''"
   ]
  },
  {
   "cell_type": "markdown",
   "metadata": {},
   "source": [
    "Tried installing libraries with aircraft models"
   ]
  },
  {
   "cell_type": "code",
   "execution_count": 104,
   "metadata": {},
   "outputs": [
    {
     "data": {
      "text/plain": [
       "'\\nOpenFlight\\nFlightAware\\n'"
      ]
     },
     "execution_count": 104,
     "metadata": {},
     "output_type": "execute_result"
    }
   ],
   "source": [
    "'''\n",
    "OpenFlight\n",
    "FlightAware\n",
    "''' "
   ]
  },
  {
   "cell_type": "markdown",
   "metadata": {},
   "source": [
    "Never made it work"
   ]
  },
  {
   "cell_type": "markdown",
   "metadata": {},
   "source": [
    "---"
   ]
  },
  {
   "cell_type": "markdown",
   "metadata": {},
   "source": [
    "### Second analysis attempt for KPI #2: accidents related in 'Flight Type', military or civilian"
   ]
  },
  {
   "cell_type": "code",
   "execution_count": 105,
   "metadata": {},
   "outputs": [],
   "source": [
    "military_keywords = []"
   ]
  },
  {
   "cell_type": "code",
   "execution_count": 106,
   "metadata": {},
   "outputs": [],
   "source": [
    "def get_synonyms(word):\n",
    "    synonyms = set()\n",
    "    for syn in wordnet.synsets(word):\n",
    "        for lemma in syn.lemmas():\n",
    "            synonyms.add(lemma.name())\n",
    "    return synonyms\n",
    "\n",
    "\n",
    "military_synonyms = get_synonyms('Military')\n",
    "navy_synonyms = get_synonyms('Navy')\n",
    "airforce_synonyms = get_synonyms('Air Force')\n",
    "royal_synonyms = get_synonyms('Royal')\n",
    "army_synonyms = get_synonyms('Army')"
   ]
  },
  {
   "cell_type": "code",
   "execution_count": 107,
   "metadata": {},
   "outputs": [
    {
     "name": "stdout",
     "output_type": "stream",
     "text": [
      "Synonyms for 'military': {'armed_services', 'military_machine', 'military', 'war_machine', 'armed_forces'}\n",
      "Synonyms for 'navy': {'dark_blue', 'US_Navy', 'naval_forces', 'USN', 'United_States_Navy', 'Navy', 'navy_blue', 'navy'}\n",
      "Synonyms for 'airforce': set()\n",
      "Synonyms for 'royal': {'imperial', 'purple', 'royal_stag', 'majestic', 'regal', 'royal'}\n",
      "Synonyms for 'army': {'U._S._Army', 'regular_army', 'ground_forces', 'United_States_Army', 'USA', 'US_Army', 'Army', 'army'}\n"
     ]
    }
   ],
   "source": [
    "military_synonyms = get_synonyms('Military')\n",
    "navy_synonyms = get_synonyms('Navy')\n",
    "airforce_synonyms = get_synonyms('Air Force')\n",
    "royal_synonyms = get_synonyms('Royal')\n",
    "army_synonyms = get_synonyms('Army')\n",
    "\n",
    "print(\"Synonyms for 'military':\", military_synonyms)\n",
    "print(\"Synonyms for 'navy':\", navy_synonyms)\n",
    "print(\"Synonyms for 'airforce':\", airforce_synonyms)\n",
    "print(\"Synonyms for 'royal':\", royal_synonyms)\n",
    "print(\"Synonyms for 'army':\", army_synonyms)"
   ]
  },
  {
   "cell_type": "code",
   "execution_count": 108,
   "metadata": {},
   "outputs": [],
   "source": [
    "def replace_underscore_with_space(input_set):\n",
    "    return {value.replace('_', ' ') for value in input_set}\n"
   ]
  },
  {
   "cell_type": "code",
   "execution_count": 109,
   "metadata": {},
   "outputs": [
    {
     "name": "stdout",
     "output_type": "stream",
     "text": [
      "{'war machine', 'armed forces', 'armed services', 'military', 'military machine'}\n",
      "{'US Navy', 'navy blue', 'USN', 'naval forces', 'Navy', 'dark blue', 'United States Navy', 'navy'}\n",
      "{'imperial', 'royal stag', 'purple', 'majestic', 'regal', 'royal'}\n",
      "{'US Army', 'regular army', 'United States Army', 'USA', 'ground forces', 'Army', 'U. S. Army', 'army'}\n"
     ]
    }
   ],
   "source": [
    "military_synonyms = replace_underscore_with_space(military_synonyms)\n",
    "navy_synonyms = replace_underscore_with_space(navy_synonyms)\n",
    "royal_synonyms = replace_underscore_with_space(royal_synonyms)\n",
    "army_synonyms = replace_underscore_with_space(army_synonyms)\n",
    "print(military_synonyms)\n",
    "print(navy_synonyms)\n",
    "print(royal_synonyms)\n",
    "print(army_synonyms)"
   ]
  },
  {
   "cell_type": "code",
   "execution_count": 110,
   "metadata": {},
   "outputs": [
    {
     "name": "stdout",
     "output_type": "stream",
     "text": [
      "{'US Army', 'regular army', 'United States Army', 'ground forces', 'Army', 'U. S. Army', 'army'}\n"
     ]
    }
   ],
   "source": [
    "army_synonyms.remove('USA')\n",
    "\n",
    "print(army_synonyms)"
   ]
  },
  {
   "cell_type": "code",
   "execution_count": 111,
   "metadata": {},
   "outputs": [
    {
     "name": "stdout",
     "output_type": "stream",
     "text": [
      "['war machine', 'armed forces', 'armed services', 'military', 'military machine', 'US Navy', 'navy blue', 'USN', 'naval forces', 'Navy', 'dark blue', 'United States Navy', 'navy', 'imperial', 'royal stag', 'purple', 'majestic', 'regal', 'royal', 'US Army', 'regular army', 'United States Army', 'ground forces', 'Army', 'U. S. Army', 'army', 'Royal', 'Army', 'Air Force', 'Military']\n"
     ]
    }
   ],
   "source": [
    "military_keywords.extend(military_synonyms)\n",
    "military_keywords.extend(navy_synonyms)\n",
    "military_keywords.extend(royal_synonyms)\n",
    "military_keywords.extend(army_synonyms)\n",
    "\n",
    "military_keywords.extend(['Royal', 'Army', 'Air Force', 'Military'])\n",
    "\n",
    "# Print the list\n",
    "print(military_keywords)"
   ]
  },
  {
   "cell_type": "code",
   "execution_count": 112,
   "metadata": {},
   "outputs": [
    {
     "name": "stdout",
     "output_type": "stream",
     "text": [
      "                    Date                               Route  \\\n",
      "0     September 17, 1908                 Fort Myer, Virginia   \n",
      "2          July 12, 1912           Atlantic City, New Jersey   \n",
      "3        August 06, 1913  Victoria, British Columbia, Canada   \n",
      "6         March 05, 1915                     Tienen, Belgium   \n",
      "10      October 01, 1916                Potters Bar, England   \n",
      "...                  ...                                 ...   \n",
      "5002      March 02, 2021                        Pieri, Sudan   \n",
      "5003      March 28, 2021                  Near Butte, Alaska   \n",
      "5004        May 21, 2021                Near Kaduna, Nigeria   \n",
      "5005       June 10, 2021          Near Pyin Oo Lwin, Myanmar   \n",
      "5007       July 06, 2021                      Palana, Russia   \n",
      "\n",
      "                           Operator                  Aircraft Type All Aboard  \\\n",
      "0              Military - U.S. Army               Wright Flyer III          2   \n",
      "2              Military - U.S. Navy                      Dirigible          5   \n",
      "3                           Private               Curtiss seaplane          1   \n",
      "6            Military - German Navy         Zeppelin L-8 (airship)         41   \n",
      "10           Military - German Navy        Zeppelin L-31 (airship)         19   \n",
      "...                             ...                            ...        ...   \n",
      "5002   South Sudan Supreme Airlines                 Let L-410UVP-E         10   \n",
      "5003              Soloy Helicopters    Eurocopter AS350B3 Ecureuil          6   \n",
      "5004  Military - Nigerian Air Force  Beechcraft B300 King Air 350i         11   \n",
      "5005   Military - Myanmar Air Force               Beechcraft 1900D         14   \n",
      "5007  Kamchatka Aviation Enterprise             Antonov An 26B-100         28   \n",
      "\n",
      "     Passengers Aboard Crew Aboard Total Fatalities Passenger Fatalities  \\\n",
      "0                    1           1                1                    1   \n",
      "2                    0           5                5                    0   \n",
      "3                    0           1                1                    0   \n",
      "6                    0          41               17                    0   \n",
      "10                   0          19               19                    0   \n",
      "...                ...         ...              ...                  ...   \n",
      "5002                 8           2               10                    8   \n",
      "5003                 5           1                5                    4   \n",
      "5004                 7           4               11                    7   \n",
      "5005                12           2               12                   11   \n",
      "5007                22           6               28                   22   \n",
      "\n",
      "     Crew Fatalities  Year      Month  Season Type of flight  \n",
      "0                  0  1908  September  Autumn       Military  \n",
      "2                  5  1912       July  Summer       Military  \n",
      "3                  1  1913     August  Summer       Civilian  \n",
      "6                 17  1915      March  Spring       Military  \n",
      "10                19  1916    October  Autumn       Military  \n",
      "...              ...   ...        ...     ...            ...  \n",
      "5002               2  2021      March  Spring       Civilian  \n",
      "5003               1  2021      March  Spring       Civilian  \n",
      "5004               4  2021        May  Spring       Military  \n",
      "5005               1  2021       June  Summer       Military  \n",
      "5007               6  2021       July  Summer       Civilian  \n",
      "\n",
      "[4751 rows x 14 columns]\n"
     ]
    },
    {
     "name": "stderr",
     "output_type": "stream",
     "text": [
      "C:\\Users\\German\\AppData\\Local\\Temp\\ipykernel_23128\\3604781699.py:2: SettingWithCopyWarning: \n",
      "A value is trying to be set on a copy of a slice from a DataFrame.\n",
      "Try using .loc[row_indexer,col_indexer] = value instead\n",
      "\n",
      "See the caveats in the documentation: https://pandas.pydata.org/pandas-docs/stable/user_guide/indexing.html#returning-a-view-versus-a-copy\n",
      "  df_aa['Type of flight'] = df_aa['Operator'].str.contains('|'.join(military_keywords), case=False, na=False)\n",
      "C:\\Users\\German\\AppData\\Local\\Temp\\ipykernel_23128\\3604781699.py:5: SettingWithCopyWarning: \n",
      "A value is trying to be set on a copy of a slice from a DataFrame.\n",
      "Try using .loc[row_indexer,col_indexer] = value instead\n",
      "\n",
      "See the caveats in the documentation: https://pandas.pydata.org/pandas-docs/stable/user_guide/indexing.html#returning-a-view-versus-a-copy\n",
      "  df_aa['Type of flight'] = df_aa['Type of flight'].map({True: 'Military', False: 'Civilian'})\n"
     ]
    }
   ],
   "source": [
    "# Use str.contains to check if any of the keywords are present in 'Operator'\n",
    "df_aa['Type of flight'] = df_aa['Operator'].str.contains('|'.join(military_keywords), case=False, na=False)\n",
    "\n",
    "# Map the boolean results to 'Military' and 'Civilian'\n",
    "df_aa['Type of flight'] = df_aa['Type of flight'].map({True: 'Military', False: 'Civilian'})\n",
    "\n",
    "# If you want to handle missing values (NaN) separately, you can do this:\n",
    "# df['Type of flight'] = df['Type of flight'].fillna('Unknown')\n",
    "\n",
    "# Display the DataFrame\n",
    "print(df_aa)"
   ]
  },
  {
   "cell_type": "markdown",
   "metadata": {},
   "source": [
    "Save last version of DataFrame"
   ]
  },
  {
   "cell_type": "code",
   "execution_count": 113,
   "metadata": {},
   "outputs": [],
   "source": [
    "# df_aa.to_csv(\"AircraftAccidentsFinalF.csv\")"
   ]
  },
  {
   "cell_type": "code",
   "execution_count": 114,
   "metadata": {},
   "outputs": [],
   "source": [
    "# df_aa = pd.read_csv(\"AircraftAccidentsFinalF.csv\")"
   ]
  },
  {
   "cell_type": "markdown",
   "metadata": {},
   "source": [
    "The information for the second KPI is enough to perform a visual analysis in Tableau"
   ]
  },
  {
   "cell_type": "markdown",
   "metadata": {},
   "source": [
    "### ETL Continuation"
   ]
  },
  {
   "cell_type": "markdown",
   "metadata": {},
   "source": [
    "Create 'Country' column in case it's useful"
   ]
  },
  {
   "cell_type": "code",
   "execution_count": 115,
   "metadata": {},
   "outputs": [],
   "source": [
    "def get_country_from_location(location):\n",
    "    \"\"\"Returns the country from a given location string.\n",
    "\n",
    "    Args:\n",
    "        location: A string representing a location.\n",
    "\n",
    "    Returns:\n",
    "        A string representing the country of the given location.\n",
    "    \"\"\"\n",
    "\n",
    "    # Split the location string by commas.\n",
    "    location_parts = location.split(',')\n",
    "\n",
    "    # If the location string does not contain a comma, then the country is\n",
    "    # the entire location string.\n",
    "    if len(location_parts) == 1:\n",
    "        country = location\n",
    "    else:\n",
    "        # Get the last part of the location string, which should be the country.\n",
    "        country = location_parts[-1]\n",
    "\n",
    "    # Strip any leading or trailing whitespace from the country.\n",
    "    country = country.strip()\n",
    "\n",
    "    return country\n",
    "\n",
    "\n",
    "def convert_locations_to_countries(df):\n",
    "    \"\"\"Converts the locations in a DataFrame to countries.\n",
    "\n",
    "    Args:\n",
    "        df: A DataFrame containing a column of locations.\n",
    "\n",
    "    Returns:\n",
    "        A DataFrame with a new column containing the countries of the locations.\n",
    "    \"\"\"\n",
    "\n",
    "    # Create a new column for the countries.\n",
    "    df_aa['Country'] = df_aa['Route'].apply(get_country_from_location)\n",
    "\n",
    "    # If the country is a state of the USA, replace it with the USA.\n",
    "    df_aa['Country'] = df_aa['Country'].replace(\n",
    "        ['Virginia', 'New Jersey'], 'USA')\n",
    "\n",
    "    return df\n",
    "\n"
   ]
  },
  {
   "cell_type": "code",
   "execution_count": 116,
   "metadata": {},
   "outputs": [
    {
     "name": "stdout",
     "output_type": "stream",
     "text": [
      "                    Date                               Route  \\\n",
      "0     September 17, 1908                 Fort Myer, Virginia   \n",
      "2          July 12, 1912           Atlantic City, New Jersey   \n",
      "3        August 06, 1913  Victoria, British Columbia, Canada   \n",
      "6         March 05, 1915                     Tienen, Belgium   \n",
      "10      October 01, 1916                Potters Bar, England   \n",
      "...                  ...                                 ...   \n",
      "5002      March 02, 2021                        Pieri, Sudan   \n",
      "5003      March 28, 2021                  Near Butte, Alaska   \n",
      "5004        May 21, 2021                Near Kaduna, Nigeria   \n",
      "5005       June 10, 2021          Near Pyin Oo Lwin, Myanmar   \n",
      "5007       July 06, 2021                      Palana, Russia   \n",
      "\n",
      "                           Operator                  Aircraft Type All Aboard  \\\n",
      "0              Military - U.S. Army               Wright Flyer III          2   \n",
      "2              Military - U.S. Navy                      Dirigible          5   \n",
      "3                           Private               Curtiss seaplane          1   \n",
      "6            Military - German Navy         Zeppelin L-8 (airship)         41   \n",
      "10           Military - German Navy        Zeppelin L-31 (airship)         19   \n",
      "...                             ...                            ...        ...   \n",
      "5002   South Sudan Supreme Airlines                 Let L-410UVP-E         10   \n",
      "5003              Soloy Helicopters    Eurocopter AS350B3 Ecureuil          6   \n",
      "5004  Military - Nigerian Air Force  Beechcraft B300 King Air 350i         11   \n",
      "5005   Military - Myanmar Air Force               Beechcraft 1900D         14   \n",
      "5007  Kamchatka Aviation Enterprise             Antonov An 26B-100         28   \n",
      "\n",
      "     Passengers Aboard Crew Aboard Total Fatalities Passenger Fatalities  \\\n",
      "0                    1           1                1                    1   \n",
      "2                    0           5                5                    0   \n",
      "3                    0           1                1                    0   \n",
      "6                    0          41               17                    0   \n",
      "10                   0          19               19                    0   \n",
      "...                ...         ...              ...                  ...   \n",
      "5002                 8           2               10                    8   \n",
      "5003                 5           1                5                    4   \n",
      "5004                 7           4               11                    7   \n",
      "5005                12           2               12                   11   \n",
      "5007                22           6               28                   22   \n",
      "\n",
      "     Crew Fatalities  Year      Month  Season Type of flight  \n",
      "0                  0  1908  September  Autumn       Military  \n",
      "2                  5  1912       July  Summer       Military  \n",
      "3                  1  1913     August  Summer       Civilian  \n",
      "6                 17  1915      March  Spring       Military  \n",
      "10                19  1916    October  Autumn       Military  \n",
      "...              ...   ...        ...     ...            ...  \n",
      "5002               2  2021      March  Spring       Civilian  \n",
      "5003               1  2021      March  Spring       Civilian  \n",
      "5004               4  2021        May  Spring       Military  \n",
      "5005               1  2021       June  Summer       Military  \n",
      "5007               6  2021       July  Summer       Civilian  \n",
      "\n",
      "[4751 rows x 14 columns]\n"
     ]
    },
    {
     "name": "stderr",
     "output_type": "stream",
     "text": [
      "C:\\Users\\German\\AppData\\Local\\Temp\\ipykernel_23128\\909461051.py:39: SettingWithCopyWarning: \n",
      "A value is trying to be set on a copy of a slice from a DataFrame.\n",
      "Try using .loc[row_indexer,col_indexer] = value instead\n",
      "\n",
      "See the caveats in the documentation: https://pandas.pydata.org/pandas-docs/stable/user_guide/indexing.html#returning-a-view-versus-a-copy\n",
      "  df_aa['Country'] = df_aa['Route'].apply(get_country_from_location)\n",
      "C:\\Users\\German\\AppData\\Local\\Temp\\ipykernel_23128\\909461051.py:42: SettingWithCopyWarning: \n",
      "A value is trying to be set on a copy of a slice from a DataFrame.\n",
      "Try using .loc[row_indexer,col_indexer] = value instead\n",
      "\n",
      "See the caveats in the documentation: https://pandas.pydata.org/pandas-docs/stable/user_guide/indexing.html#returning-a-view-versus-a-copy\n",
      "  df_aa['Country'] = df_aa['Country'].replace(\n"
     ]
    }
   ],
   "source": [
    "# Convert the locations to countries.\n",
    "df = convert_locations_to_countries(df_aa.copy())\n",
    "\n",
    "# Print the DataFrame.\n",
    "print(df)"
   ]
  },
  {
   "cell_type": "code",
   "execution_count": 117,
   "metadata": {},
   "outputs": [],
   "source": [
    "column_values = df_aa['Route'].tolist()\n",
    "\n",
    "# Save the list to a text file\n",
    "with open('column_values.txt', 'w') as f:\n",
    "    for value in column_values:\n",
    "        f.write(str(value) + '\\n')"
   ]
  },
  {
   "cell_type": "markdown",
   "metadata": {},
   "source": [
    "Function to confirm there are no duplicated rows in the DataFrame"
   ]
  },
  {
   "cell_type": "code",
   "execution_count": 118,
   "metadata": {},
   "outputs": [],
   "source": [
    "import pandas as pd\n",
    "\n",
    "def hay_duplicados_exactos(df_aa):\n",
    "\n",
    "\n",
    "  for i in range(len(df_aa)):\n",
    "    for j in range(i + 1, len(df_aa)):\n",
    "      if df.iloc[i].equals(df.iloc[j]):\n",
    "        return True\n",
    "\n",
    "  return False"
   ]
  },
  {
   "cell_type": "code",
   "execution_count": 119,
   "metadata": {},
   "outputs": [],
   "source": [
    "#print(hay_duplicados_exactos(df_aa))"
   ]
  },
  {
   "cell_type": "markdown",
   "metadata": {},
   "source": [
    "The result was False, so there are no duplicated rows"
   ]
  },
  {
   "cell_type": "markdown",
   "metadata": {},
   "source": [
    "---"
   ]
  },
  {
   "cell_type": "markdown",
   "metadata": {},
   "source": [
    "### EDA Continuation"
   ]
  },
  {
   "cell_type": "markdown",
   "metadata": {},
   "source": [
    "Outliers verification"
   ]
  },
  {
   "cell_type": "markdown",
   "metadata": {},
   "source": [
    "Are there any bigger amount of fatalities than passengers aboard?"
   ]
  },
  {
   "cell_type": "code",
   "execution_count": 120,
   "metadata": {},
   "outputs": [],
   "source": [
    "def muertes_mayores_que_abordos(df):\n",
    "\n",
    "  filas_con_muertes_mayores = []\n",
    "  for index in df.index:\n",
    "    if df.loc[index, \"Total Fatalities\"] > df.loc[index, \"All Aboard\"]:\n",
    "      filas_con_muertes_mayores.append(df.iloc[index])\n",
    "  return pd.DataFrame(filas_con_muertes_mayores) if filas_con_muertes_mayores else False"
   ]
  },
  {
   "cell_type": "code",
   "execution_count": 122,
   "metadata": {},
   "outputs": [],
   "source": [
    "#muertes_mayores_que_abordos(df_aa)"
   ]
  },
  {
   "cell_type": "markdown",
   "metadata": {},
   "source": [
    "Quick research about max amount of possible passengers in flights"
   ]
  },
  {
   "cell_type": "code",
   "execution_count": 123,
   "metadata": {},
   "outputs": [],
   "source": [
    "def values_above_800_passengers(df):\n",
    "  \"\"\"\n",
    "  Devuelve los valores de la columna \"Total Aboard\" que sean mayores de 800.\n",
    "\n",
    "  Args:\n",
    "    df: El dataframe con los datos.\n",
    "\n",
    "  Returns:\n",
    "    Una lista con los valores de la columna \"Total Aboard\" que sean mayores de 800.\n",
    "    False si no hay valores mayores que 800.\n",
    "  \"\"\"\n",
    "\n",
    "  values_above_800 = []\n",
    "  for value in df[\"All Aboard\"]:\n",
    "    if value > 800:\n",
    "      values_above_800.append(value)\n",
    "  return values_above_800 if values_above_800 else False\n",
    "\n"
   ]
  },
  {
   "cell_type": "code",
   "execution_count": 124,
   "metadata": {},
   "outputs": [
    {
     "ename": "TypeError",
     "evalue": "'>' not supported between instances of 'str' and 'int'",
     "output_type": "error",
     "traceback": [
      "\u001b[1;31m---------------------------------------------------------------------------\u001b[0m",
      "\u001b[1;31mTypeError\u001b[0m                                 Traceback (most recent call last)",
      "\u001b[1;32mc:\\Users\\German\\Documents\\Henry\\LABs\\Proyecto_individual_2\\AccidentesA_Notebook.ipynb Cell 81\u001b[0m line \u001b[0;36m1\n\u001b[1;32m----> <a href='vscode-notebook-cell:/c%3A/Users/German/Documents/Henry/LABs/Proyecto_individual_2/AccidentesA_Notebook.ipynb#Y143sZmlsZQ%3D%3D?line=0'>1</a>\u001b[0m values_above_800_passengers(df_aa)\n",
      "\u001b[1;32mc:\\Users\\German\\Documents\\Henry\\LABs\\Proyecto_individual_2\\AccidentesA_Notebook.ipynb Cell 81\u001b[0m line \u001b[0;36m1\n\u001b[0;32m     <a href='vscode-notebook-cell:/c%3A/Users/German/Documents/Henry/LABs/Proyecto_individual_2/AccidentesA_Notebook.ipynb#Y143sZmlsZQ%3D%3D?line=12'>13</a>\u001b[0m values_above_800 \u001b[39m=\u001b[39m []\n\u001b[0;32m     <a href='vscode-notebook-cell:/c%3A/Users/German/Documents/Henry/LABs/Proyecto_individual_2/AccidentesA_Notebook.ipynb#Y143sZmlsZQ%3D%3D?line=13'>14</a>\u001b[0m \u001b[39mfor\u001b[39;00m value \u001b[39min\u001b[39;00m df[\u001b[39m\"\u001b[39m\u001b[39mAll Aboard\u001b[39m\u001b[39m\"\u001b[39m]:\n\u001b[1;32m---> <a href='vscode-notebook-cell:/c%3A/Users/German/Documents/Henry/LABs/Proyecto_individual_2/AccidentesA_Notebook.ipynb#Y143sZmlsZQ%3D%3D?line=14'>15</a>\u001b[0m   \u001b[39mif\u001b[39;00m value \u001b[39m>\u001b[39;49m \u001b[39m800\u001b[39;49m:\n\u001b[0;32m     <a href='vscode-notebook-cell:/c%3A/Users/German/Documents/Henry/LABs/Proyecto_individual_2/AccidentesA_Notebook.ipynb#Y143sZmlsZQ%3D%3D?line=15'>16</a>\u001b[0m     values_above_800\u001b[39m.\u001b[39mappend(value)\n\u001b[0;32m     <a href='vscode-notebook-cell:/c%3A/Users/German/Documents/Henry/LABs/Proyecto_individual_2/AccidentesA_Notebook.ipynb#Y143sZmlsZQ%3D%3D?line=16'>17</a>\u001b[0m \u001b[39mreturn\u001b[39;00m values_above_800 \u001b[39mif\u001b[39;00m values_above_800 \u001b[39melse\u001b[39;00m \u001b[39mFalse\u001b[39;00m\n",
      "\u001b[1;31mTypeError\u001b[0m: '>' not supported between instances of 'str' and 'int'"
     ]
    }
   ],
   "source": [
    "values_above_800_passengers(df_aa)"
   ]
  },
  {
   "cell_type": "markdown",
   "metadata": {},
   "source": [
    "No flights with more fatalities than passengers, so there are no realted outliers"
   ]
  },
  {
   "cell_type": "markdown",
   "metadata": {},
   "source": [
    "The average of passengers in flights to check if there are higher values"
   ]
  },
  {
   "cell_type": "code",
   "execution_count": 125,
   "metadata": {},
   "outputs": [
    {
     "name": "stdout",
     "output_type": "stream",
     "text": [
      "Date                    object\n",
      "Route                   object\n",
      "Operator                object\n",
      "Aircraft Type           object\n",
      "All Aboard              object\n",
      "Passengers Aboard       object\n",
      "Crew Aboard             object\n",
      "Total Fatalities        object\n",
      "Passenger Fatalities    object\n",
      "Crew Fatalities         object\n",
      "Year                     int64\n",
      "Month                   object\n",
      "Season                  object\n",
      "Type of flight          object\n",
      "Country                 object\n",
      "dtype: object\n"
     ]
    }
   ],
   "source": [
    "column_types = df_aa.dtypes\n",
    "\n",
    "print(column_types)"
   ]
  },
  {
   "cell_type": "code",
   "execution_count": 126,
   "metadata": {},
   "outputs": [
    {
     "name": "stdout",
     "output_type": "stream",
     "text": [
      "                    Date                               Route  \\\n",
      "0     September 17, 1908                 Fort Myer, Virginia   \n",
      "2          July 12, 1912           Atlantic City, New Jersey   \n",
      "3        August 06, 1913  Victoria, British Columbia, Canada   \n",
      "6         March 05, 1915                     Tienen, Belgium   \n",
      "10      October 01, 1916                Potters Bar, England   \n",
      "...                  ...                                 ...   \n",
      "5002      March 02, 2021                        Pieri, Sudan   \n",
      "5003      March 28, 2021                  Near Butte, Alaska   \n",
      "5004        May 21, 2021                Near Kaduna, Nigeria   \n",
      "5005       June 10, 2021          Near Pyin Oo Lwin, Myanmar   \n",
      "5007       July 06, 2021                      Palana, Russia   \n",
      "\n",
      "                           Operator                  Aircraft Type  \\\n",
      "0              Military - U.S. Army               Wright Flyer III   \n",
      "2              Military - U.S. Navy                      Dirigible   \n",
      "3                           Private               Curtiss seaplane   \n",
      "6            Military - German Navy         Zeppelin L-8 (airship)   \n",
      "10           Military - German Navy        Zeppelin L-31 (airship)   \n",
      "...                             ...                            ...   \n",
      "5002   South Sudan Supreme Airlines                 Let L-410UVP-E   \n",
      "5003              Soloy Helicopters    Eurocopter AS350B3 Ecureuil   \n",
      "5004  Military - Nigerian Air Force  Beechcraft B300 King Air 350i   \n",
      "5005   Military - Myanmar Air Force               Beechcraft 1900D   \n",
      "5007  Kamchatka Aviation Enterprise             Antonov An 26B-100   \n",
      "\n",
      "      All Aboard  Passengers Aboard  Crew Aboard  Total Fatalities  \\\n",
      "0              2                  1            1                 1   \n",
      "2              5                  0            5                 5   \n",
      "3              1                  0            1                 1   \n",
      "6             41                  0           41                17   \n",
      "10            19                  0           19                19   \n",
      "...          ...                ...          ...               ...   \n",
      "5002          10                  8            2                10   \n",
      "5003           6                  5            1                 5   \n",
      "5004          11                  7            4                11   \n",
      "5005          14                 12            2                12   \n",
      "5007          28                 22            6                28   \n",
      "\n",
      "      Passenger Fatalities  Crew Fatalities  Year      Month  Season  \\\n",
      "0                        1                0  1908  September  Autumn   \n",
      "2                        0                5  1912       July  Summer   \n",
      "3                        0                1  1913     August  Summer   \n",
      "6                        0               17  1915      March  Spring   \n",
      "10                       0               19  1916    October  Autumn   \n",
      "...                    ...              ...   ...        ...     ...   \n",
      "5002                     8                2  2021      March  Spring   \n",
      "5003                     4                1  2021      March  Spring   \n",
      "5004                     7                4  2021        May  Spring   \n",
      "5005                    11                1  2021       June  Summer   \n",
      "5007                    22                6  2021       July  Summer   \n",
      "\n",
      "     Type of flight  Country  \n",
      "0          Military      USA  \n",
      "2          Military      USA  \n",
      "3          Civilian   Canada  \n",
      "6          Military  Belgium  \n",
      "10         Military  England  \n",
      "...             ...      ...  \n",
      "5002       Civilian    Sudan  \n",
      "5003       Civilian   Alaska  \n",
      "5004       Military  Nigeria  \n",
      "5005       Military  Myanmar  \n",
      "5007       Civilian   Russia  \n",
      "\n",
      "[4751 rows x 15 columns]\n"
     ]
    },
    {
     "name": "stderr",
     "output_type": "stream",
     "text": [
      "C:\\Users\\German\\AppData\\Local\\Temp\\ipykernel_23128\\1873806023.py:4: SettingWithCopyWarning: \n",
      "A value is trying to be set on a copy of a slice from a DataFrame.\n",
      "Try using .loc[row_indexer,col_indexer] = value instead\n",
      "\n",
      "See the caveats in the documentation: https://pandas.pydata.org/pandas-docs/stable/user_guide/indexing.html#returning-a-view-versus-a-copy\n",
      "  df_aa[['All Aboard', 'Passengers Aboard', 'Crew Aboard', 'Total Fatalities', 'Passenger Fatalities', 'Crew Fatalities']] = df_aa[['All Aboard', 'Passengers Aboard', 'Crew Aboard', 'Total Fatalities', 'Passenger Fatalities', 'Crew Fatalities']].apply(convert_to_int)\n"
     ]
    }
   ],
   "source": [
    "def convert_to_int(col):\n",
    "    return col.astype(int)\n",
    "\n",
    "df_aa[['All Aboard', 'Passengers Aboard', 'Crew Aboard', 'Total Fatalities', 'Passenger Fatalities', 'Crew Fatalities']] = df_aa[['All Aboard', 'Passengers Aboard', 'Crew Aboard', 'Total Fatalities', 'Passenger Fatalities', 'Crew Fatalities']].apply(convert_to_int)\n",
    "\n",
    "# Print the dataframe\n",
    "print(df_aa)"
   ]
  },
  {
   "cell_type": "code",
   "execution_count": 127,
   "metadata": {},
   "outputs": [],
   "source": [
    "def values_above_200_passengers(df):\n",
    "\n",
    "  values_over_200 = []\n",
    "  for value in df[\"All Aboard\"]:\n",
    "    if value > 200:\n",
    "      values_over_200.append(value)\n",
    "  return values_over_200 if values_over_200 else False"
   ]
  },
  {
   "cell_type": "code",
   "execution_count": 128,
   "metadata": {},
   "outputs": [
    {
     "data": {
      "text/plain": [
       "64"
      ]
     },
     "execution_count": 128,
     "metadata": {},
     "output_type": "execute_result"
    }
   ],
   "source": [
    "len(values_above_200_passengers(df_aa))"
   ]
  },
  {
   "cell_type": "code",
   "execution_count": 129,
   "metadata": {},
   "outputs": [],
   "source": [
    "def values_above_200_deaths(df):\n",
    "\n",
    "\n",
    "  values_over_200 = []\n",
    "  for value in df[\"Total Fatalities\"]:\n",
    "    if value > 200:\n",
    "      values_over_200.append(value)\n",
    "  return values_over_200 if values_over_200 else False"
   ]
  },
  {
   "cell_type": "code",
   "execution_count": 130,
   "metadata": {},
   "outputs": [
    {
     "data": {
      "text/plain": [
       "29"
      ]
     },
     "execution_count": 130,
     "metadata": {},
     "output_type": "execute_result"
    }
   ],
   "source": [
    "len(values_above_200_deaths(df_aa))"
   ]
  },
  {
   "cell_type": "code",
   "execution_count": 131,
   "metadata": {},
   "outputs": [
    {
     "data": {
      "text/plain": [
       "[346,\n",
       " 583,\n",
       " 213,\n",
       " 271,\n",
       " 257,\n",
       " 301,\n",
       " 269,\n",
       " 329,\n",
       " 520,\n",
       " 256,\n",
       " 290,\n",
       " 259,\n",
       " 223,\n",
       " 261,\n",
       " 264,\n",
       " 230,\n",
       " 349,\n",
       " 228,\n",
       " 234,\n",
       " 229,\n",
       " 217,\n",
       " 260,\n",
       " 225,\n",
       " 275,\n",
       " 228,\n",
       " 239,\n",
       " 298,\n",
       " 224,\n",
       " 257]"
      ]
     },
     "execution_count": 131,
     "metadata": {},
     "output_type": "execute_result"
    }
   ],
   "source": [
    "values_above_200_deaths(df_aa)"
   ]
  },
  {
   "cell_type": "markdown",
   "metadata": {},
   "source": [
    "Quick research about the biggest aircraft accidents in History and matches with the one registered here, 583, so the checked and confirmed:"
   ]
  },
  {
   "cell_type": "code",
   "execution_count": 132,
   "metadata": {},
   "outputs": [
    {
     "data": {
      "text/html": [
       "<div>\n",
       "<style scoped>\n",
       "    .dataframe tbody tr th:only-of-type {\n",
       "        vertical-align: middle;\n",
       "    }\n",
       "\n",
       "    .dataframe tbody tr th {\n",
       "        vertical-align: top;\n",
       "    }\n",
       "\n",
       "    .dataframe thead th {\n",
       "        text-align: right;\n",
       "    }\n",
       "</style>\n",
       "<table border=\"1\" class=\"dataframe\">\n",
       "  <thead>\n",
       "    <tr style=\"text-align: right;\">\n",
       "      <th></th>\n",
       "      <th>Date</th>\n",
       "      <th>Route</th>\n",
       "      <th>Operator</th>\n",
       "      <th>Aircraft Type</th>\n",
       "      <th>All Aboard</th>\n",
       "      <th>Passengers Aboard</th>\n",
       "      <th>Crew Aboard</th>\n",
       "      <th>Total Fatalities</th>\n",
       "      <th>Passenger Fatalities</th>\n",
       "      <th>Crew Fatalities</th>\n",
       "      <th>Year</th>\n",
       "      <th>Month</th>\n",
       "      <th>Season</th>\n",
       "      <th>Type of flight</th>\n",
       "      <th>Country</th>\n",
       "    </tr>\n",
       "  </thead>\n",
       "  <tbody>\n",
       "    <tr>\n",
       "      <th>2902</th>\n",
       "      <td>March 27, 1977</td>\n",
       "      <td>Tenerife, Canary Islands</td>\n",
       "      <td>Pan American World Airways / KLM</td>\n",
       "      <td>Boeing B-747-121 / Boeing B-747-206B</td>\n",
       "      <td>644</td>\n",
       "      <td>614</td>\n",
       "      <td>30</td>\n",
       "      <td>583</td>\n",
       "      <td>560</td>\n",
       "      <td>23</td>\n",
       "      <td>1977</td>\n",
       "      <td>March</td>\n",
       "      <td>Spring</td>\n",
       "      <td>Civilian</td>\n",
       "      <td>Canary Islands</td>\n",
       "    </tr>\n",
       "  </tbody>\n",
       "</table>\n",
       "</div>"
      ],
      "text/plain": [
       "                Date                     Route  \\\n",
       "2902  March 27, 1977  Tenerife, Canary Islands   \n",
       "\n",
       "                              Operator                         Aircraft Type  \\\n",
       "2902  Pan American World Airways / KLM  Boeing B-747-121 / Boeing B-747-206B   \n",
       "\n",
       "      All Aboard  Passengers Aboard  Crew Aboard  Total Fatalities  \\\n",
       "2902         644                614           30               583   \n",
       "\n",
       "      Passenger Fatalities  Crew Fatalities  Year  Month  Season  \\\n",
       "2902                   560               23  1977  March  Spring   \n",
       "\n",
       "     Type of flight         Country  \n",
       "2902       Civilian  Canary Islands  "
      ]
     },
     "execution_count": 132,
     "metadata": {},
     "output_type": "execute_result"
    }
   ],
   "source": [
    "row_583_fatalities = df_aa.loc[df_aa[\"Total Fatalities\"] == 583]\n",
    "row_583_fatalities"
   ]
  },
  {
   "cell_type": "markdown",
   "metadata": {},
   "source": [
    "This is de historic accident itself, so it's the final confirmation that there is no outliers regarding the 'Total Fatalities' column."
   ]
  },
  {
   "cell_type": "markdown",
   "metadata": {},
   "source": [
    "No outliers in 'Years' column:"
   ]
  },
  {
   "cell_type": "code",
   "execution_count": 133,
   "metadata": {},
   "outputs": [
    {
     "data": {
      "text/plain": [
       "1908"
      ]
     },
     "execution_count": 133,
     "metadata": {},
     "output_type": "execute_result"
    }
   ],
   "source": [
    "df_aa['Year'].min()"
   ]
  },
  {
   "cell_type": "code",
   "execution_count": 134,
   "metadata": {},
   "outputs": [
    {
     "data": {
      "text/plain": [
       "2021"
      ]
     },
     "execution_count": 134,
     "metadata": {},
     "output_type": "execute_result"
    }
   ],
   "source": [
    "df_aa['Year'].max()"
   ]
  },
  {
   "cell_type": "markdown",
   "metadata": {},
   "source": [
    "Outliers for 'Passengers Aboard', 'Crew Aboard', 'Passenger Fatalities', 'Crew Fatalities'"
   ]
  },
  {
   "cell_type": "code",
   "execution_count": 135,
   "metadata": {},
   "outputs": [],
   "source": [
    "def values_above_200_passengers(df):\n",
    "\n",
    "\n",
    "  values_above_200_passengers = []\n",
    "  for value in df[\"Passengers Aboard\"]:\n",
    "    if value > 200:\n",
    "      values_above_200_passengers.append(value)\n",
    "  return values_above_200_passengers if values_above_200_passengers else False"
   ]
  },
  {
   "cell_type": "code",
   "execution_count": 136,
   "metadata": {},
   "outputs": [
    {
     "data": {
      "text/plain": [
       "59"
      ]
     },
     "execution_count": 136,
     "metadata": {},
     "output_type": "execute_result"
    }
   ],
   "source": [
    "len(values_above_200_passengers(df_aa))"
   ]
  },
  {
   "cell_type": "code",
   "execution_count": 137,
   "metadata": {},
   "outputs": [],
   "source": [
    "def values_above_200_crew(df):\n",
    "\n",
    "\n",
    "  values_above_200_crew = []\n",
    "  for value in df[\"Crew Aboard\"]:\n",
    "    if value > 200:\n",
    "      values_above_200_crew.append(value)\n",
    "  return values_above_200_crew if values_above_200_crew else False"
   ]
  },
  {
   "cell_type": "code",
   "execution_count": 138,
   "metadata": {},
   "outputs": [
    {
     "data": {
      "text/plain": [
       "False"
      ]
     },
     "execution_count": 138,
     "metadata": {},
     "output_type": "execute_result"
    }
   ],
   "source": [
    "values_above_200_crew(df_aa)"
   ]
  },
  {
   "cell_type": "code",
   "execution_count": 139,
   "metadata": {},
   "outputs": [],
   "source": [
    "def values_above_200_pf(df):\n",
    "\n",
    "  # Convert the \"Passenger Fatalities\" column to numeric values.\n",
    "  df[\"Passenger Fatalities\"] = pd.to_numeric(df[\"Passenger Fatalities\"], errors='coerce')\n",
    "\n",
    "  # Create a list of values above 200.\n",
    "  values_above_200_pf = []\n",
    "  for value in df[\"Passenger Fatalities\"]:\n",
    "    if value > 200:\n",
    "      values_above_200_pf.append(value)\n",
    "\n",
    "  # Return the list of values above 200, or False if there are none.\n",
    "  return values_above_200_pf if values_above_200_pf else False\n",
    "\n"
   ]
  },
  {
   "cell_type": "code",
   "execution_count": 140,
   "metadata": {},
   "outputs": [
    {
     "name": "stderr",
     "output_type": "stream",
     "text": [
      "C:\\Users\\German\\AppData\\Local\\Temp\\ipykernel_23128\\2121853779.py:4: SettingWithCopyWarning: \n",
      "A value is trying to be set on a copy of a slice from a DataFrame.\n",
      "Try using .loc[row_indexer,col_indexer] = value instead\n",
      "\n",
      "See the caveats in the documentation: https://pandas.pydata.org/pandas-docs/stable/user_guide/indexing.html#returning-a-view-versus-a-copy\n",
      "  df[\"Passenger Fatalities\"] = pd.to_numeric(df[\"Passenger Fatalities\"], errors='coerce')\n"
     ]
    },
    {
     "data": {
      "text/plain": [
       "29"
      ]
     },
     "execution_count": 140,
     "metadata": {},
     "output_type": "execute_result"
    }
   ],
   "source": [
    "len(values_above_200_pf(df_aa))"
   ]
  },
  {
   "cell_type": "code",
   "execution_count": 141,
   "metadata": {},
   "outputs": [],
   "source": [
    "def values_above_200_cf(df):\n",
    "\n",
    "\n",
    "  values_above_200_cf = []\n",
    "  for value in df[\"Crew Fatalities\"]:\n",
    "    if value > 200:\n",
    "      values_above_200_cf.append(value)\n",
    "  return values_above_200_cf if values_above_200_cf else False\n"
   ]
  },
  {
   "cell_type": "code",
   "execution_count": 142,
   "metadata": {},
   "outputs": [
    {
     "data": {
      "text/plain": [
       "False"
      ]
     },
     "execution_count": 142,
     "metadata": {},
     "output_type": "execute_result"
    }
   ],
   "source": [
    "values_above_200_cf(df_aa)"
   ]
  },
  {
   "cell_type": "code",
   "execution_count": 143,
   "metadata": {},
   "outputs": [],
   "source": [
    "def muertes_mayores_que_abordos_crew(df):\n",
    "\n",
    "\n",
    "  filas_con_muertes_mayores = df[df[\"Crew Fatalities\"] > df[\"Crew Aboard\"]]\n",
    "\n",
    "  if not filas_con_muertes_mayores.empty:\n",
    "    return filas_con_muertes_mayores\n",
    "  else:\n",
    "    return False"
   ]
  },
  {
   "cell_type": "code",
   "execution_count": 144,
   "metadata": {},
   "outputs": [
    {
     "data": {
      "text/html": [
       "<div>\n",
       "<style scoped>\n",
       "    .dataframe tbody tr th:only-of-type {\n",
       "        vertical-align: middle;\n",
       "    }\n",
       "\n",
       "    .dataframe tbody tr th {\n",
       "        vertical-align: top;\n",
       "    }\n",
       "\n",
       "    .dataframe thead th {\n",
       "        text-align: right;\n",
       "    }\n",
       "</style>\n",
       "<table border=\"1\" class=\"dataframe\">\n",
       "  <thead>\n",
       "    <tr style=\"text-align: right;\">\n",
       "      <th></th>\n",
       "      <th>Date</th>\n",
       "      <th>Route</th>\n",
       "      <th>Operator</th>\n",
       "      <th>Aircraft Type</th>\n",
       "      <th>All Aboard</th>\n",
       "      <th>Passengers Aboard</th>\n",
       "      <th>Crew Aboard</th>\n",
       "      <th>Total Fatalities</th>\n",
       "      <th>Passenger Fatalities</th>\n",
       "      <th>Crew Fatalities</th>\n",
       "      <th>Year</th>\n",
       "      <th>Month</th>\n",
       "      <th>Season</th>\n",
       "      <th>Type of flight</th>\n",
       "      <th>Country</th>\n",
       "    </tr>\n",
       "  </thead>\n",
       "  <tbody>\n",
       "    <tr>\n",
       "      <th>1672</th>\n",
       "      <td>December 31, 1957</td>\n",
       "      <td>Buenos Aires, Argentina</td>\n",
       "      <td>Aerolineas Argentinas</td>\n",
       "      <td>Short Sunderland</td>\n",
       "      <td>50</td>\n",
       "      <td>44</td>\n",
       "      <td>6</td>\n",
       "      <td>9</td>\n",
       "      <td>1</td>\n",
       "      <td>8</td>\n",
       "      <td>1957</td>\n",
       "      <td>December</td>\n",
       "      <td>Winter</td>\n",
       "      <td>Civilian</td>\n",
       "      <td>Argentina</td>\n",
       "    </tr>\n",
       "    <tr>\n",
       "      <th>4914</th>\n",
       "      <td>September 05, 2015</td>\n",
       "      <td>Off Dakar, Near Dioubel, Senegal</td>\n",
       "      <td>Senegalair</td>\n",
       "      <td>Hawker Siddeley HS-125</td>\n",
       "      <td>7</td>\n",
       "      <td>5</td>\n",
       "      <td>2</td>\n",
       "      <td>7</td>\n",
       "      <td>2</td>\n",
       "      <td>5</td>\n",
       "      <td>2015</td>\n",
       "      <td>September</td>\n",
       "      <td>Autumn</td>\n",
       "      <td>Civilian</td>\n",
       "      <td>Senegal</td>\n",
       "    </tr>\n",
       "  </tbody>\n",
       "</table>\n",
       "</div>"
      ],
      "text/plain": [
       "                    Date                             Route  \\\n",
       "1672   December 31, 1957           Buenos Aires, Argentina   \n",
       "4914  September 05, 2015  Off Dakar, Near Dioubel, Senegal   \n",
       "\n",
       "                   Operator           Aircraft Type  All Aboard  \\\n",
       "1672  Aerolineas Argentinas        Short Sunderland          50   \n",
       "4914             Senegalair  Hawker Siddeley HS-125           7   \n",
       "\n",
       "      Passengers Aboard  Crew Aboard  Total Fatalities  Passenger Fatalities  \\\n",
       "1672                 44            6                 9                     1   \n",
       "4914                  5            2                 7                     2   \n",
       "\n",
       "      Crew Fatalities  Year      Month  Season Type of flight    Country  \n",
       "1672                8  1957   December  Winter       Civilian  Argentina  \n",
       "4914                5  2015  September  Autumn       Civilian    Senegal  "
      ]
     },
     "execution_count": 144,
     "metadata": {},
     "output_type": "execute_result"
    }
   ],
   "source": [
    "muertes_mayores_que_abordos_crew(df_aa)"
   ]
  },
  {
   "cell_type": "code",
   "execution_count": 145,
   "metadata": {},
   "outputs": [],
   "source": [
    "def muertes_mayores_que_abordos_pasajeros(df):\n",
    "\n",
    "\n",
    "  filas_con_muertes_mayores = df[df[\"Passenger Fatalities\"] > df[\"Passengers Aboard\"]]\n",
    "\n",
    "  if not filas_con_muertes_mayores.empty:\n",
    "    return filas_con_muertes_mayores\n",
    "  else:\n",
    "    return False"
   ]
  },
  {
   "cell_type": "code",
   "execution_count": 146,
   "metadata": {},
   "outputs": [
    {
     "data": {
      "text/html": [
       "<div>\n",
       "<style scoped>\n",
       "    .dataframe tbody tr th:only-of-type {\n",
       "        vertical-align: middle;\n",
       "    }\n",
       "\n",
       "    .dataframe tbody tr th {\n",
       "        vertical-align: top;\n",
       "    }\n",
       "\n",
       "    .dataframe thead th {\n",
       "        text-align: right;\n",
       "    }\n",
       "</style>\n",
       "<table border=\"1\" class=\"dataframe\">\n",
       "  <thead>\n",
       "    <tr style=\"text-align: right;\">\n",
       "      <th></th>\n",
       "      <th>Date</th>\n",
       "      <th>Route</th>\n",
       "      <th>Operator</th>\n",
       "      <th>Aircraft Type</th>\n",
       "      <th>All Aboard</th>\n",
       "      <th>Passengers Aboard</th>\n",
       "      <th>Crew Aboard</th>\n",
       "      <th>Total Fatalities</th>\n",
       "      <th>Passenger Fatalities</th>\n",
       "      <th>Crew Fatalities</th>\n",
       "      <th>Year</th>\n",
       "      <th>Month</th>\n",
       "      <th>Season</th>\n",
       "      <th>Type of flight</th>\n",
       "      <th>Country</th>\n",
       "    </tr>\n",
       "  </thead>\n",
       "  <tbody>\n",
       "    <tr>\n",
       "      <th>2781</th>\n",
       "      <td>December 29, 1974</td>\n",
       "      <td>Tikal, Guatemala</td>\n",
       "      <td>Edwin Ortiz</td>\n",
       "      <td>Lockheed 18 LodeStar</td>\n",
       "      <td>24</td>\n",
       "      <td>21</td>\n",
       "      <td>3</td>\n",
       "      <td>24</td>\n",
       "      <td>213</td>\n",
       "      <td>3</td>\n",
       "      <td>1974</td>\n",
       "      <td>December</td>\n",
       "      <td>Winter</td>\n",
       "      <td>Civilian</td>\n",
       "      <td>Guatemala</td>\n",
       "    </tr>\n",
       "    <tr>\n",
       "      <th>3227</th>\n",
       "      <td>April 30, 1983</td>\n",
       "      <td>Jacksonville, Florida</td>\n",
       "      <td>Military - United States Navy</td>\n",
       "      <td>Convair CV-340</td>\n",
       "      <td>15</td>\n",
       "      <td>9</td>\n",
       "      <td>6</td>\n",
       "      <td>15</td>\n",
       "      <td>98</td>\n",
       "      <td>6</td>\n",
       "      <td>1983</td>\n",
       "      <td>April</td>\n",
       "      <td>Spring</td>\n",
       "      <td>Military</td>\n",
       "      <td>Florida</td>\n",
       "    </tr>\n",
       "    <tr>\n",
       "      <th>3230</th>\n",
       "      <td>May 06, 1983</td>\n",
       "      <td>Klyuchi, Russia</td>\n",
       "      <td>Military - Soviet Air Force</td>\n",
       "      <td>Antonov An-26</td>\n",
       "      <td>37</td>\n",
       "      <td>31</td>\n",
       "      <td>6</td>\n",
       "      <td>33</td>\n",
       "      <td>37</td>\n",
       "      <td>6</td>\n",
       "      <td>1983</td>\n",
       "      <td>May</td>\n",
       "      <td>Spring</td>\n",
       "      <td>Military</td>\n",
       "      <td>Russia</td>\n",
       "    </tr>\n",
       "  </tbody>\n",
       "</table>\n",
       "</div>"
      ],
      "text/plain": [
       "                   Date                  Route                       Operator  \\\n",
       "2781  December 29, 1974       Tikal, Guatemala                    Edwin Ortiz   \n",
       "3227     April 30, 1983  Jacksonville, Florida  Military - United States Navy   \n",
       "3230       May 06, 1983        Klyuchi, Russia    Military - Soviet Air Force   \n",
       "\n",
       "             Aircraft Type  All Aboard  Passengers Aboard  Crew Aboard  \\\n",
       "2781  Lockheed 18 LodeStar          24                 21            3   \n",
       "3227        Convair CV-340          15                  9            6   \n",
       "3230         Antonov An-26          37                 31            6   \n",
       "\n",
       "      Total Fatalities  Passenger Fatalities  Crew Fatalities  Year     Month  \\\n",
       "2781                24                   213                3  1974  December   \n",
       "3227                15                    98                6  1983     April   \n",
       "3230                33                    37                6  1983       May   \n",
       "\n",
       "      Season Type of flight    Country  \n",
       "2781  Winter       Civilian  Guatemala  \n",
       "3227  Spring       Military    Florida  \n",
       "3230  Spring       Military     Russia  "
      ]
     },
     "execution_count": 146,
     "metadata": {},
     "output_type": "execute_result"
    }
   ],
   "source": [
    "muertes_mayores_que_abordos_pasajeros(df_aa)"
   ]
  },
  {
   "cell_type": "code",
   "execution_count": 147,
   "metadata": {},
   "outputs": [],
   "source": [
    "df_aa = df_aa.drop([1672, 4914, 2781, 3227, 3230], axis=0)"
   ]
  },
  {
   "cell_type": "code",
   "execution_count": 148,
   "metadata": {},
   "outputs": [
    {
     "data": {
      "text/plain": [
       "(4746, 15)"
      ]
     },
     "execution_count": 148,
     "metadata": {},
     "output_type": "execute_result"
    }
   ],
   "source": [
    "df_aa.shape"
   ]
  },
  {
   "cell_type": "code",
   "execution_count": 149,
   "metadata": {},
   "outputs": [
    {
     "data": {
      "text/html": [
       "<div>\n",
       "<style scoped>\n",
       "    .dataframe tbody tr th:only-of-type {\n",
       "        vertical-align: middle;\n",
       "    }\n",
       "\n",
       "    .dataframe tbody tr th {\n",
       "        vertical-align: top;\n",
       "    }\n",
       "\n",
       "    .dataframe thead th {\n",
       "        text-align: right;\n",
       "    }\n",
       "</style>\n",
       "<table border=\"1\" class=\"dataframe\">\n",
       "  <thead>\n",
       "    <tr style=\"text-align: right;\">\n",
       "      <th></th>\n",
       "      <th>All Aboard</th>\n",
       "      <th>Passengers Aboard</th>\n",
       "      <th>Crew Aboard</th>\n",
       "      <th>Total Fatalities</th>\n",
       "      <th>Passenger Fatalities</th>\n",
       "      <th>Crew Fatalities</th>\n",
       "      <th>Year</th>\n",
       "    </tr>\n",
       "  </thead>\n",
       "  <tbody>\n",
       "    <tr>\n",
       "      <th>count</th>\n",
       "      <td>4746.000000</td>\n",
       "      <td>4746.000000</td>\n",
       "      <td>4746.000000</td>\n",
       "      <td>4746.000000</td>\n",
       "      <td>4746.000000</td>\n",
       "      <td>4746.000000</td>\n",
       "      <td>4746.000000</td>\n",
       "    </tr>\n",
       "    <tr>\n",
       "      <th>mean</th>\n",
       "      <td>31.443742</td>\n",
       "      <td>26.934471</td>\n",
       "      <td>4.519385</td>\n",
       "      <td>22.536030</td>\n",
       "      <td>18.959966</td>\n",
       "      <td>3.587231</td>\n",
       "      <td>1971.272651</td>\n",
       "    </tr>\n",
       "    <tr>\n",
       "      <th>std</th>\n",
       "      <td>46.200278</td>\n",
       "      <td>44.165912</td>\n",
       "      <td>3.761339</td>\n",
       "      <td>35.733731</td>\n",
       "      <td>34.004922</td>\n",
       "      <td>3.171939</td>\n",
       "      <td>24.496296</td>\n",
       "    </tr>\n",
       "    <tr>\n",
       "      <th>min</th>\n",
       "      <td>0.000000</td>\n",
       "      <td>0.000000</td>\n",
       "      <td>0.000000</td>\n",
       "      <td>0.000000</td>\n",
       "      <td>0.000000</td>\n",
       "      <td>0.000000</td>\n",
       "      <td>1908.000000</td>\n",
       "    </tr>\n",
       "    <tr>\n",
       "      <th>25%</th>\n",
       "      <td>6.000000</td>\n",
       "      <td>3.000000</td>\n",
       "      <td>2.000000</td>\n",
       "      <td>4.000000</td>\n",
       "      <td>1.000000</td>\n",
       "      <td>2.000000</td>\n",
       "      <td>1951.000000</td>\n",
       "    </tr>\n",
       "    <tr>\n",
       "      <th>50%</th>\n",
       "      <td>16.000000</td>\n",
       "      <td>12.000000</td>\n",
       "      <td>4.000000</td>\n",
       "      <td>11.000000</td>\n",
       "      <td>8.000000</td>\n",
       "      <td>3.000000</td>\n",
       "      <td>1970.500000</td>\n",
       "    </tr>\n",
       "    <tr>\n",
       "      <th>75%</th>\n",
       "      <td>35.000000</td>\n",
       "      <td>30.000000</td>\n",
       "      <td>6.000000</td>\n",
       "      <td>25.000000</td>\n",
       "      <td>21.000000</td>\n",
       "      <td>5.000000</td>\n",
       "      <td>1992.000000</td>\n",
       "    </tr>\n",
       "    <tr>\n",
       "      <th>max</th>\n",
       "      <td>644.000000</td>\n",
       "      <td>614.000000</td>\n",
       "      <td>83.000000</td>\n",
       "      <td>583.000000</td>\n",
       "      <td>560.000000</td>\n",
       "      <td>43.000000</td>\n",
       "      <td>2021.000000</td>\n",
       "    </tr>\n",
       "  </tbody>\n",
       "</table>\n",
       "</div>"
      ],
      "text/plain": [
       "        All Aboard  Passengers Aboard  Crew Aboard  Total Fatalities  \\\n",
       "count  4746.000000        4746.000000  4746.000000       4746.000000   \n",
       "mean     31.443742          26.934471     4.519385         22.536030   \n",
       "std      46.200278          44.165912     3.761339         35.733731   \n",
       "min       0.000000           0.000000     0.000000          0.000000   \n",
       "25%       6.000000           3.000000     2.000000          4.000000   \n",
       "50%      16.000000          12.000000     4.000000         11.000000   \n",
       "75%      35.000000          30.000000     6.000000         25.000000   \n",
       "max     644.000000         614.000000    83.000000        583.000000   \n",
       "\n",
       "       Passenger Fatalities  Crew Fatalities         Year  \n",
       "count           4746.000000      4746.000000  4746.000000  \n",
       "mean              18.959966         3.587231  1971.272651  \n",
       "std               34.004922         3.171939    24.496296  \n",
       "min                0.000000         0.000000  1908.000000  \n",
       "25%                1.000000         2.000000  1951.000000  \n",
       "50%                8.000000         3.000000  1970.500000  \n",
       "75%               21.000000         5.000000  1992.000000  \n",
       "max              560.000000        43.000000  2021.000000  "
      ]
     },
     "execution_count": 149,
     "metadata": {},
     "output_type": "execute_result"
    }
   ],
   "source": [
    "df_aa.describe()"
   ]
  },
  {
   "cell_type": "code",
   "execution_count": 150,
   "metadata": {},
   "outputs": [
    {
     "data": {
      "text/html": [
       "<div>\n",
       "<style scoped>\n",
       "    .dataframe tbody tr th:only-of-type {\n",
       "        vertical-align: middle;\n",
       "    }\n",
       "\n",
       "    .dataframe tbody tr th {\n",
       "        vertical-align: top;\n",
       "    }\n",
       "\n",
       "    .dataframe thead th {\n",
       "        text-align: right;\n",
       "    }\n",
       "</style>\n",
       "<table border=\"1\" class=\"dataframe\">\n",
       "  <thead>\n",
       "    <tr style=\"text-align: right;\">\n",
       "      <th></th>\n",
       "      <th>Date</th>\n",
       "      <th>Route</th>\n",
       "      <th>Operator</th>\n",
       "      <th>Aircraft Type</th>\n",
       "      <th>All Aboard</th>\n",
       "      <th>Passengers Aboard</th>\n",
       "      <th>Crew Aboard</th>\n",
       "      <th>Total Fatalities</th>\n",
       "      <th>Passenger Fatalities</th>\n",
       "      <th>Crew Fatalities</th>\n",
       "      <th>Year</th>\n",
       "      <th>Month</th>\n",
       "      <th>Season</th>\n",
       "      <th>Type of flight</th>\n",
       "      <th>Country</th>\n",
       "    </tr>\n",
       "  </thead>\n",
       "  <tbody>\n",
       "    <tr>\n",
       "      <th>0</th>\n",
       "      <td>September 17, 1908</td>\n",
       "      <td>Fort Myer, Virginia</td>\n",
       "      <td>Military - U.S. Army</td>\n",
       "      <td>Wright Flyer III</td>\n",
       "      <td>2</td>\n",
       "      <td>1</td>\n",
       "      <td>1</td>\n",
       "      <td>1</td>\n",
       "      <td>1</td>\n",
       "      <td>0</td>\n",
       "      <td>1908</td>\n",
       "      <td>September</td>\n",
       "      <td>Autumn</td>\n",
       "      <td>Military</td>\n",
       "      <td>USA</td>\n",
       "    </tr>\n",
       "    <tr>\n",
       "      <th>2</th>\n",
       "      <td>July 12, 1912</td>\n",
       "      <td>Atlantic City, New Jersey</td>\n",
       "      <td>Military - U.S. Navy</td>\n",
       "      <td>Dirigible</td>\n",
       "      <td>5</td>\n",
       "      <td>0</td>\n",
       "      <td>5</td>\n",
       "      <td>5</td>\n",
       "      <td>0</td>\n",
       "      <td>5</td>\n",
       "      <td>1912</td>\n",
       "      <td>July</td>\n",
       "      <td>Summer</td>\n",
       "      <td>Military</td>\n",
       "      <td>USA</td>\n",
       "    </tr>\n",
       "    <tr>\n",
       "      <th>3</th>\n",
       "      <td>August 06, 1913</td>\n",
       "      <td>Victoria, British Columbia, Canada</td>\n",
       "      <td>Private</td>\n",
       "      <td>Curtiss seaplane</td>\n",
       "      <td>1</td>\n",
       "      <td>0</td>\n",
       "      <td>1</td>\n",
       "      <td>1</td>\n",
       "      <td>0</td>\n",
       "      <td>1</td>\n",
       "      <td>1913</td>\n",
       "      <td>August</td>\n",
       "      <td>Summer</td>\n",
       "      <td>Civilian</td>\n",
       "      <td>Canada</td>\n",
       "    </tr>\n",
       "  </tbody>\n",
       "</table>\n",
       "</div>"
      ],
      "text/plain": [
       "                 Date                               Route  \\\n",
       "0  September 17, 1908                 Fort Myer, Virginia   \n",
       "2       July 12, 1912           Atlantic City, New Jersey   \n",
       "3     August 06, 1913  Victoria, British Columbia, Canada   \n",
       "\n",
       "               Operator     Aircraft Type  All Aboard  Passengers Aboard  \\\n",
       "0  Military - U.S. Army  Wright Flyer III           2                  1   \n",
       "2  Military - U.S. Navy         Dirigible           5                  0   \n",
       "3               Private  Curtiss seaplane           1                  0   \n",
       "\n",
       "   Crew Aboard  Total Fatalities  Passenger Fatalities  Crew Fatalities  Year  \\\n",
       "0            1                 1                     1                0  1908   \n",
       "2            5                 5                     0                5  1912   \n",
       "3            1                 1                     0                1  1913   \n",
       "\n",
       "       Month  Season Type of flight Country  \n",
       "0  September  Autumn       Military     USA  \n",
       "2       July  Summer       Military     USA  \n",
       "3     August  Summer       Civilian  Canada  "
      ]
     },
     "execution_count": 150,
     "metadata": {},
     "output_type": "execute_result"
    }
   ],
   "source": [
    "df_aa.head(3)"
   ]
  },
  {
   "cell_type": "code",
   "execution_count": 151,
   "metadata": {},
   "outputs": [],
   "source": [
    "# df_aa.to_csv(\"AircraftAccidentsFinalF.csv\")"
   ]
  },
  {
   "cell_type": "markdown",
   "metadata": {},
   "source": [
    "Visualize most of the graphics to preview before Tableau"
   ]
  },
  {
   "cell_type": "code",
   "execution_count": 161,
   "metadata": {},
   "outputs": [
    {
     "data": {
      "image/png": "[encoded data removed]",
      "text/plain": [
       "<Figure size 640x480 with 1 Axes>"
      ]
     },
     "metadata": {},
     "output_type": "display_data"
    }
   ],
   "source": [
    "df_aa_filtered = df_aa[(df_aa['Year'] >= 2000) & (df_aa['Year'] <= 2019)]\n",
    "\n",
    "warnings.filterwarnings('ignore', category=FutureWarning)\n",
    "\n",
    "sns.lineplot(\n",
    "    x = \"Year\",\n",
    "    y = \"Crew Fatalities\",\n",
    "    data=df_aa_filtered\n",
    ")\n",
    "\n",
    "plt.title('Average crew fatalities over time')\n",
    "plt.xlabel('Year')\n",
    "plt.ylabel('Crew fatalities')\n",
    "\n",
    "plt.show()"
   ]
  },
  {
   "cell_type": "code",
   "execution_count": 166,
   "metadata": {},
   "outputs": [
    {
     "data": {
      "image/png": "[encoded data removed]",
      "text/plain": [
       "<Figure size 640x480 with 1 Axes>"
      ]
     },
     "metadata": {},
     "output_type": "display_data"
    }
   ],
   "source": [
    "df_aa_filtered = df_aa[(df_aa['Year'] >= 2000) & (df_aa['Year'] <= 2019)]\n",
    "\n",
    "df_crew_fatalities_count = df_aa_filtered.groupby('Year')['Crew Fatalities'].count()\n",
    "\n",
    "sns.lineplot(\n",
    "    x = df_crew_fatalities_count.index,\n",
    "    y = df_crew_fatalities_count.values,\n",
    "    data=df_crew_fatalities_count\n",
    ")\n",
    "\n",
    "plt.title('Count of crew fatalities over time')\n",
    "plt.xlabel('Year')\n",
    "plt.ylabel('Count of crew fatalities')\n",
    "\n",
    "plt.show()"
   ]
  },
  {
   "cell_type": "code",
   "execution_count": 182,
   "metadata": {},
   "outputs": [
    {
     "data": {
      "image/png": "[encoded data removed]",
      "text/plain": [
       "<Figure size 1000x600 with 1 Axes>"
      ]
     },
     "metadata": {},
     "output_type": "display_data"
    }
   ],
   "source": [
    "promedio_fatalities = df_aa['Crew Fatalities'].mean()\n",
    "promedio_aboard = df_aa['Crew Aboard'].mean()\n",
    "\n",
    "# Crea un DataFrame para los promedios\n",
    "df_promedios = pd.DataFrame({'Tipo': ['Crew Fatalities', 'Crew Aboard'],\n",
    "                            'Promedio': [promedio_fatalities, promedio_aboard]})\n",
    "\n",
    "# Crea el gráfico\n",
    "plt.figure(figsize=(10, 6))\n",
    "sns.barplot(x='Tipo', y='Promedio', data=df_promedios, palette='pastel')\n",
    "plt.title('Promedio de Crew Fatalities y Crew Aboard')\n",
    "plt.show()"
   ]
  }
 ],
 "metadata": {
  "kernelspec": {
   "display_name": "Python 3",
   "language": "python",
   "name": "python3"
  },
  "language_info": {
   "codemirror_mode": {
    "name": "ipython",
    "version": 3
   },
   "file_extension": ".py",
   "mimetype": "text/x-python",
   "name": "python",
   "nbconvert_exporter": "python",
   "pygments_lexer": "ipython3",
   "version": "3.11.3"
  },
  "orig_nbformat": 4
 },
 "nbformat": 4,
 "nbformat_minor": 2
}
